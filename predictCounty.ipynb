{
 "nbformat": 4,
 "nbformat_minor": 0,
 "metadata": {
  "kernelspec": {
   "display_name": "Python 3",
   "language": "python",
   "name": "python3"
  },
  "language_info": {
   "codemirror_mode": {
    "name": "ipython",
    "version": 3
   },
   "file_extension": ".py",
   "mimetype": "text/x-python",
   "name": "python",
   "nbconvert_exporter": "python",
   "pygments_lexer": "ipython3",
   "version": "3.7.3"
  },
  "colab": {
   "name": "predictCounty.ipynb",
   "provenance": []
  }
 },
 "cells": [
  {
   "cell_type": "code",
   "metadata": {
    "id": "CsluoFv7Sp2j"
   },
   "source": [
    "import tensorflow as tf\n",
    "import numpy as np\n",
    "import pandas as pd\n",
    "import matplotlib.pyplot as plt"
   ],
   "execution_count": 1,
   "outputs": []
  },
  {
   "cell_type": "code",
   "metadata": {
    "pycharm": {
     "name": "#%%\n"
    },
    "id": "tlcuuCFhSp3G"
   },
   "source": [
    "years = range(2000,2020,4)\n",
    "df = pd.read_csv('counties.csv')"
   ],
   "execution_count": 2,
   "outputs": []
  },
  {
   "cell_type": "code",
   "metadata": {
    "pycharm": {
     "name": "#%%\n"
    },
    "id": "PrR6Do9iSp3f",
    "outputId": "f82993de-f5b0-472f-998d-2f0b191154b1",
    "colab": {
     "base_uri": "https://localhost:8080/",
     "height": 317
    }
   },
   "source": [
    "data = df.drop(columns=['state', 'county'])\n",
    "data = data.dropna(axis=0,how='any')\n",
    "data.describe()"
   ],
   "execution_count": 3,
   "outputs": [
    {
     "output_type": "execute_result",
     "data": {
      "text/html": [
       "<div>\n",
       "<style scoped>\n",
       "    .dataframe tbody tr th:only-of-type {\n",
       "        vertical-align: middle;\n",
       "    }\n",
       "\n",
       "    .dataframe tbody tr th {\n",
       "        vertical-align: top;\n",
       "    }\n",
       "\n",
       "    .dataframe thead th {\n",
       "        text-align: right;\n",
       "    }\n",
       "</style>\n",
       "<table border=\"1\" class=\"dataframe\">\n",
       "  <thead>\n",
       "    <tr style=\"text-align: right;\">\n",
       "      <th></th>\n",
       "      <th>2000D</th>\n",
       "      <th>2000R</th>\n",
       "      <th>2000O</th>\n",
       "      <th>2004D</th>\n",
       "      <th>2004R</th>\n",
       "      <th>2004O</th>\n",
       "      <th>2008D</th>\n",
       "      <th>2008R</th>\n",
       "      <th>2008O</th>\n",
       "      <th>2012D</th>\n",
       "      <th>2012R</th>\n",
       "      <th>2012O</th>\n",
       "      <th>2016D</th>\n",
       "      <th>2016R</th>\n",
       "      <th>2016O</th>\n",
       "    </tr>\n",
       "  </thead>\n",
       "  <tbody>\n",
       "    <tr>\n",
       "      <th>count</th>\n",
       "      <td>2.875000e+03</td>\n",
       "      <td>2875.000000</td>\n",
       "      <td>2875.000000</td>\n",
       "      <td>2.875000e+03</td>\n",
       "      <td>2.875000e+03</td>\n",
       "      <td>2875.000000</td>\n",
       "      <td>2.875000e+03</td>\n",
       "      <td>2875.000000</td>\n",
       "      <td>2875.000000</td>\n",
       "      <td>2.875000e+03</td>\n",
       "      <td>2875.000000</td>\n",
       "      <td>2875.000000</td>\n",
       "      <td>2.875000e+03</td>\n",
       "      <td>2875.000000</td>\n",
       "      <td>2875.000000</td>\n",
       "    </tr>\n",
       "    <tr>\n",
       "      <th>mean</th>\n",
       "      <td>1.699424e+04</td>\n",
       "      <td>16533.856000</td>\n",
       "      <td>1352.073391</td>\n",
       "      <td>1.956915e+04</td>\n",
       "      <td>2.028555e+04</td>\n",
       "      <td>508.671652</td>\n",
       "      <td>2.298134e+04</td>\n",
       "      <td>19539.632696</td>\n",
       "      <td>610.991304</td>\n",
       "      <td>2.171365e+04</td>\n",
       "      <td>19761.090783</td>\n",
       "      <td>886.516522</td>\n",
       "      <td>2.175607e+04</td>\n",
       "      <td>20524.178783</td>\n",
       "      <td>2543.772522</td>\n",
       "    </tr>\n",
       "    <tr>\n",
       "      <th>std</th>\n",
       "      <td>5.942532e+04</td>\n",
       "      <td>39923.542134</td>\n",
       "      <td>4232.141433</td>\n",
       "      <td>6.769202e+04</td>\n",
       "      <td>4.869764e+04</td>\n",
       "      <td>1976.171276</td>\n",
       "      <td>7.944593e+04</td>\n",
       "      <td>45955.629730</td>\n",
       "      <td>1913.652362</td>\n",
       "      <td>7.628626e+04</td>\n",
       "      <td>45649.528293</td>\n",
       "      <td>3056.034805</td>\n",
       "      <td>8.298175e+04</td>\n",
       "      <td>44262.493478</td>\n",
       "      <td>7726.198627</td>\n",
       "    </tr>\n",
       "    <tr>\n",
       "      <th>min</th>\n",
       "      <td>1.400000e+01</td>\n",
       "      <td>106.000000</td>\n",
       "      <td>3.000000</td>\n",
       "      <td>1.200000e+01</td>\n",
       "      <td>6.500000e+01</td>\n",
       "      <td>0.000000</td>\n",
       "      <td>8.000000e+00</td>\n",
       "      <td>67.000000</td>\n",
       "      <td>0.000000</td>\n",
       "      <td>5.000000e+00</td>\n",
       "      <td>54.000000</td>\n",
       "      <td>1.000000</td>\n",
       "      <td>4.000000e+00</td>\n",
       "      <td>58.000000</td>\n",
       "      <td>3.000000</td>\n",
       "    </tr>\n",
       "    <tr>\n",
       "      <th>25%</th>\n",
       "      <td>1.751500e+03</td>\n",
       "      <td>2689.000000</td>\n",
       "      <td>109.000000</td>\n",
       "      <td>1.882500e+03</td>\n",
       "      <td>3.124500e+03</td>\n",
       "      <td>43.000000</td>\n",
       "      <td>1.930500e+03</td>\n",
       "      <td>2956.000000</td>\n",
       "      <td>78.500000</td>\n",
       "      <td>1.662500e+03</td>\n",
       "      <td>3021.500000</td>\n",
       "      <td>84.000000</td>\n",
       "      <td>1.240000e+03</td>\n",
       "      <td>3346.000000</td>\n",
       "      <td>195.000000</td>\n",
       "    </tr>\n",
       "    <tr>\n",
       "      <th>50%</th>\n",
       "      <td>3.830000e+03</td>\n",
       "      <td>5363.000000</td>\n",
       "      <td>278.000000</td>\n",
       "      <td>4.177000e+03</td>\n",
       "      <td>6.522000e+03</td>\n",
       "      <td>98.000000</td>\n",
       "      <td>4.493000e+03</td>\n",
       "      <td>6297.000000</td>\n",
       "      <td>182.000000</td>\n",
       "      <td>4.014000e+03</td>\n",
       "      <td>6398.000000</td>\n",
       "      <td>195.000000</td>\n",
       "      <td>3.199000e+03</td>\n",
       "      <td>7194.000000</td>\n",
       "      <td>529.000000</td>\n",
       "    </tr>\n",
       "    <tr>\n",
       "      <th>75%</th>\n",
       "      <td>9.580500e+03</td>\n",
       "      <td>13166.000000</td>\n",
       "      <td>886.500000</td>\n",
       "      <td>1.078350e+04</td>\n",
       "      <td>1.646800e+04</td>\n",
       "      <td>302.000000</td>\n",
       "      <td>1.262450e+04</td>\n",
       "      <td>16042.000000</td>\n",
       "      <td>453.500000</td>\n",
       "      <td>1.147700e+04</td>\n",
       "      <td>16391.500000</td>\n",
       "      <td>564.000000</td>\n",
       "      <td>9.940500e+03</td>\n",
       "      <td>17945.500000</td>\n",
       "      <td>1736.500000</td>\n",
       "    </tr>\n",
       "    <tr>\n",
       "      <th>max</th>\n",
       "      <td>1.710505e+06</td>\n",
       "      <td>871930.000000</td>\n",
       "      <td>112719.000000</td>\n",
       "      <td>1.907736e+06</td>\n",
       "      <td>1.076225e+06</td>\n",
       "      <td>39515.000000</td>\n",
       "      <td>2.295853e+06</td>\n",
       "      <td>956425.000000</td>\n",
       "      <td>65970.000000</td>\n",
       "      <td>2.216903e+06</td>\n",
       "      <td>885333.000000</td>\n",
       "      <td>78831.000000</td>\n",
       "      <td>2.464364e+06</td>\n",
       "      <td>769743.000000</td>\n",
       "      <td>200201.000000</td>\n",
       "    </tr>\n",
       "  </tbody>\n",
       "</table>\n",
       "</div>"
      ],
      "text/plain": [
       "              2000D          2000R  ...          2016R          2016O\n",
       "count  2.875000e+03    2875.000000  ...    2875.000000    2875.000000\n",
       "mean   1.699424e+04   16533.856000  ...   20524.178783    2543.772522\n",
       "std    5.942532e+04   39923.542134  ...   44262.493478    7726.198627\n",
       "min    1.400000e+01     106.000000  ...      58.000000       3.000000\n",
       "25%    1.751500e+03    2689.000000  ...    3346.000000     195.000000\n",
       "50%    3.830000e+03    5363.000000  ...    7194.000000     529.000000\n",
       "75%    9.580500e+03   13166.000000  ...   17945.500000    1736.500000\n",
       "max    1.710505e+06  871930.000000  ...  769743.000000  200201.000000\n",
       "\n",
       "[8 rows x 15 columns]"
      ]
     },
     "metadata": {
      "tags": []
     },
     "execution_count": 3
    }
   ]
  },
  {
   "cell_type": "code",
   "metadata": {
    "pycharm": {
     "name": "#%%\n"
    },
    "id": "0-LVluzeSp4P"
   },
   "source": [
    "data = data.to_numpy(dtype=np.int64)\n"
   ],
   "execution_count": 4,
   "outputs": []
  },
  {
   "cell_type": "code",
   "metadata": {
    "pycharm": {
     "name": "#%%\n"
    },
    "id": "YMNKgPOuSp5D"
   },
   "source": [
    "def plotCounty(state,county,dem,gop,other,predicted=None):\n",
    "    if predicted is None:\n",
    "        years = range(2000,2020,4)\n",
    "        plt.figure()\n",
    "        plt.plot(years,dem,'b',label='Democrat')\n",
    "        plt.plot(years,gop,'r',label='Republican')\n",
    "        plt.plot(years,other,'y',label='Other')\n",
    "        plt.plot(years,dem+gop+other,'k',label='Total')\n",
    "    else:\n",
    "        years = range(2000,2024,4)\n",
    "        plt.figure()\n",
    "        d = np.append(dem,predicted[0]*20000)\n",
    "        r = np.append(gop,predicted[1]*20000)\n",
    "        o = np.append(other,predicted[2]*250)\n",
    "        plt.plot(years,d,'b',label='Democrat')\n",
    "        plt.plot(years,r,'r',label='Republican')\n",
    "        plt.plot(years,o,'y',label='Other')\n",
    "        plt.plot(years,d+r+o,'k',label='Total')\n",
    "    plt.xlabel('Year')\n",
    "    plt.ylabel('Votes')\n",
    "    plt.title(county+', '+state)\n",
    "    plt.xticks(years)\n",
    "    plt.legend()\n",
    "    plt.show()"
   ],
   "execution_count": 5,
   "outputs": []
  },
  {
   "cell_type": "code",
   "metadata": {
    "pycharm": {
     "name": "#%%\n"
    },
    "id": "BhlfhjBISp6o",
    "outputId": "55c7b65e-cc9c-4b18-848d-04691556f6b6",
    "colab": {
     "base_uri": "https://localhost:8080/"
    }
   },
   "source": [
    "def convertbyParty(point):\n",
    "    d = point[:,::3]/20000\n",
    "    r = point[:,1::3]/20000\n",
    "    o = point[:,2::3]/250\n",
    "    return d,r,o\n",
    "print(df.loc[0])\n",
    "convertbyParty(np.expand_dims(df.loc[0].values[2:],0))"
   ],
   "execution_count": 6,
   "outputs": [
    {
     "output_type": "stream",
     "text": [
      "state          AL\n",
      "county    Autauga\n",
      "2000D        4942\n",
      "2000R       11993\n",
      "2000O         273\n",
      "2004D        4758\n",
      "2004R       15196\n",
      "2004O         127\n",
      "2008D        6093\n",
      "2008R       17403\n",
      "2008O         145\n",
      "2012D        6363\n",
      "2012R       17379\n",
      "2012O         190\n",
      "2016D        5936\n",
      "2016R       18172\n",
      "2016O         865\n",
      "Name: 0, dtype: object\n"
     ],
     "name": "stdout"
    },
    {
     "output_type": "execute_result",
     "data": {
      "text/plain": [
       "(array([[0.2471, 0.2379, 0.30465, 0.31815, 0.2968]], dtype=object),\n",
       " array([[0.59965, 0.7598, 0.87015, 0.86895, 0.9086]], dtype=object),\n",
       " array([[1.092, 0.508, 0.58, 0.76, 3.46]], dtype=object))"
      ]
     },
     "metadata": {
      "tags": []
     },
     "execution_count": 6
    }
   ]
  },
  {
   "cell_type": "code",
   "metadata": {
    "pycharm": {
     "name": "#%%\n"
    },
    "id": "sKpS8inlSp7A"
   },
   "source": [
    "def getDataset(data,batch_size,split=True):\n",
    "    data = np.expand_dims(data,axis=-1)\n",
    "    if split:\n",
    "        np.random.shuffle(data)\n",
    "    num = data.shape[0]\n",
    "    train_data = data[:int(num*0.6)]\n",
    "    val_data = data[int(num*0.6):int(num*0.8)]\n",
    "    test_data = data[int(num*0.8):]\n",
    "    def createDS(point,label=True):\n",
    "        d,r,o=convertbyParty(point)\n",
    "\n",
    "        if label:\n",
    "            new_data = np.vstack((d,r))\n",
    "            new_data = np.vstack((new_data,new_data*1.5,new_data*2))\n",
    "        else:\n",
    "            new_data = np.vstack((d,r,o))\n",
    "        ds = tf.data.Dataset.from_tensor_slices(new_data)\n",
    "        if label:\n",
    "            ds = ds.map(lambda p: (p[:-1],p[-1]))\n",
    "        else:\n",
    "            ds = ds.map(lambda p: p[1:])\n",
    "        return ds.batch(batch_size).prefetch(1) if label else ds\n",
    "    if split:\n",
    "        return createDS(train_data),createDS(val_data),createDS(test_data)\n",
    "    else:\n",
    "        return createDS(data,False).batch(100000)"
   ],
   "execution_count": 157,
   "outputs": []
  },
  {
   "cell_type": "code",
   "metadata": {
    "pycharm": {
     "name": "#%%\n"
    },
    "id": "FuRS8y-8Sp7O",
    "outputId": "8b6b7d9f-ea4d-49ed-f9d1-412051904cd7",
    "colab": {
     "base_uri": "https://localhost:8080/"
    }
   },
   "source": [
    "train_ds, val_ds, test_ds = getDataset(data,8)\n",
    "# list(getDataset(data,1,False))[:3]\n",
    "train_ds\n"
   ],
   "execution_count": 185,
   "outputs": [
    {
     "output_type": "execute_result",
     "data": {
      "text/plain": [
       "<PrefetchDataset shapes: ((None, 4, 1), (None, 1)), types: (tf.float64, tf.float64)>"
      ]
     },
     "metadata": {
      "tags": []
     },
     "execution_count": 185
    }
   ]
  },
  {
   "cell_type": "code",
   "metadata": {
    "pycharm": {
     "name": "#%%\n"
    },
    "id": "bKa-U7wESp7w"
   },
   "source": [
    "x = 16\n",
    "reg = None #tf.keras.regularizers.l2(0.0005)\n",
    "model = tf.keras.Sequential([\n",
    "    tf.keras.layers.Conv1D(x,2,activation='relu',input_shape=(4,1)),\n",
    "    tf.keras.layers.Dense(2*x,'relu',kernel_regularizer=reg),\n",
    "    tf.keras.layers.Dense(4*x,'relu',kernel_regularizer=reg),\n",
    "    tf.keras.layers.Dense(8*x,'relu',kernel_regularizer=reg),\n",
    "    tf.keras.layers.Flatten(),\n",
    "    tf.keras.layers.Dense(1)\n",
    "])"
   ],
   "execution_count": 159,
   "outputs": []
  },
  {
   "cell_type": "code",
   "metadata": {
    "pycharm": {
     "name": "#%%\n"
    },
    "id": "Sm_qpTzDSp7-",
    "outputId": "2fdeaf17-355c-4555-ddf9-e959114c39d6",
    "colab": {
     "base_uri": "https://localhost:8080/"
    }
   },
   "source": [
    "lr_schedule = tf.keras.callbacks.LearningRateScheduler(lambda epoch: 1e-6 * 10**(epoch / 20))\n",
    "optimizer = tf.keras.optimizers.Adam(lr=1e-5)\n",
    "model.compile(loss='mae',optimizer=optimizer,metrics=['mse'])\n",
    "model.summary()"
   ],
   "execution_count": 173,
   "outputs": [
    {
     "output_type": "stream",
     "text": [
      "Model: \"sequential_29\"\n",
      "_________________________________________________________________\n",
      "Layer (type)                 Output Shape              Param #   \n",
      "=================================================================\n",
      "conv1d_29 (Conv1D)           (None, 3, 16)             48        \n",
      "_________________________________________________________________\n",
      "dense_116 (Dense)            (None, 3, 32)             544       \n",
      "_________________________________________________________________\n",
      "dense_117 (Dense)            (None, 3, 64)             2112      \n",
      "_________________________________________________________________\n",
      "dense_118 (Dense)            (None, 3, 128)            8320      \n",
      "_________________________________________________________________\n",
      "flatten_29 (Flatten)         (None, 384)               0         \n",
      "_________________________________________________________________\n",
      "dense_119 (Dense)            (None, 1)                 385       \n",
      "=================================================================\n",
      "Total params: 11,409\n",
      "Trainable params: 11,409\n",
      "Non-trainable params: 0\n",
      "_________________________________________________________________\n"
     ],
     "name": "stdout"
    }
   ]
  },
  {
   "cell_type": "code",
   "metadata": {
    "pycharm": {
     "name": "#%%\n"
    },
    "id": "SR-cfHLeSp8N"
   },
   "source": [
    "model_checkpoint = tf.keras.callbacks.ModelCheckpoint(\"model.h5\", save_best_only=True)\n",
    "early_stopping = tf.keras.callbacks.EarlyStopping(patience=50)\n"
   ],
   "execution_count": 47,
   "outputs": []
  },
  {
   "cell_type": "code",
   "metadata": {
    "pycharm": {
     "name": "#%%\n"
    },
    "id": "lmf1QmWbSp8c",
    "outputId": "60ce980e-96d4-4ddc-bc65-8448e89d71b4",
    "colab": {
     "base_uri": "https://localhost:8080/"
    }
   },
   "source": [
    "# history = model.fit(train_ds,epochs=100,validation_data=val_ds,callbacks=[lr_schedule])\n",
    "# plt.semilogx(history.history[\"lr\"], history.history[\"loss\"])\n",
    "# plt.axis([1e-6, 10, 0, 3])\n",
    "def getlr(epoch):\n",
    "  return 1e-4\n",
    "new_lr = tf.keras.callbacks.LearningRateScheduler(getlr)\n",
    "model.fit(train_ds,epochs=80,validation_data=val_ds,callbacks=[model_checkpoint,early_stopping])"
   ],
   "execution_count": 174,
   "outputs": [
    {
     "output_type": "stream",
     "text": [
      "Epoch 1/80\n",
      "2157/2157 [==============================] - 4s 2ms/step - loss: 0.1243 - mse: 0.1284 - val_loss: 0.1044 - val_mse: 0.0713\n",
      "Epoch 2/80\n",
      "2157/2157 [==============================] - 4s 2ms/step - loss: 0.1220 - mse: 0.1259 - val_loss: 0.1036 - val_mse: 0.0704\n",
      "Epoch 3/80\n",
      "2157/2157 [==============================] - 4s 2ms/step - loss: 0.1212 - mse: 0.1248 - val_loss: 0.1035 - val_mse: 0.0710\n",
      "Epoch 4/80\n",
      "2157/2157 [==============================] - 4s 2ms/step - loss: 0.1208 - mse: 0.1246 - val_loss: 0.1032 - val_mse: 0.0706\n",
      "Epoch 5/80\n",
      "2157/2157 [==============================] - 4s 2ms/step - loss: 0.1206 - mse: 0.1244 - val_loss: 0.1029 - val_mse: 0.0703\n",
      "Epoch 6/80\n",
      "2157/2157 [==============================] - 4s 2ms/step - loss: 0.1204 - mse: 0.1243 - val_loss: 0.1025 - val_mse: 0.0700\n",
      "Epoch 7/80\n",
      "2157/2157 [==============================] - 4s 2ms/step - loss: 0.1202 - mse: 0.1241 - val_loss: 0.1022 - val_mse: 0.0697\n",
      "Epoch 8/80\n",
      "2157/2157 [==============================] - 4s 2ms/step - loss: 0.1200 - mse: 0.1240 - val_loss: 0.1021 - val_mse: 0.0695\n",
      "Epoch 9/80\n",
      "2157/2157 [==============================] - 4s 2ms/step - loss: 0.1199 - mse: 0.1239 - val_loss: 0.1019 - val_mse: 0.0693\n",
      "Epoch 10/80\n",
      "2157/2157 [==============================] - 4s 2ms/step - loss: 0.1199 - mse: 0.1239 - val_loss: 0.1017 - val_mse: 0.0690\n",
      "Epoch 11/80\n",
      "2157/2157 [==============================] - 4s 2ms/step - loss: 0.1197 - mse: 0.1239 - val_loss: 0.1018 - val_mse: 0.0693\n",
      "Epoch 12/80\n",
      "2157/2157 [==============================] - 4s 2ms/step - loss: 0.1198 - mse: 0.1238 - val_loss: 0.1012 - val_mse: 0.0683\n",
      "Epoch 13/80\n",
      "2157/2157 [==============================] - 4s 2ms/step - loss: 0.1197 - mse: 0.1237 - val_loss: 0.1009 - val_mse: 0.0681\n",
      "Epoch 14/80\n",
      "2157/2157 [==============================] - 4s 2ms/step - loss: 0.1197 - mse: 0.1237 - val_loss: 0.1007 - val_mse: 0.0679\n",
      "Epoch 15/80\n",
      "2157/2157 [==============================] - 4s 2ms/step - loss: 0.1196 - mse: 0.1238 - val_loss: 0.1006 - val_mse: 0.0678\n",
      "Epoch 16/80\n",
      "2157/2157 [==============================] - 4s 2ms/step - loss: 0.1196 - mse: 0.1237 - val_loss: 0.1004 - val_mse: 0.0675\n",
      "Epoch 17/80\n",
      "2157/2157 [==============================] - 4s 2ms/step - loss: 0.1196 - mse: 0.1236 - val_loss: 0.1006 - val_mse: 0.0678\n",
      "Epoch 18/80\n",
      "2157/2157 [==============================] - 4s 2ms/step - loss: 0.1195 - mse: 0.1237 - val_loss: 0.1004 - val_mse: 0.0675\n",
      "Epoch 19/80\n",
      "2157/2157 [==============================] - 4s 2ms/step - loss: 0.1194 - mse: 0.1235 - val_loss: 0.1003 - val_mse: 0.0674\n",
      "Epoch 20/80\n",
      "2157/2157 [==============================] - 4s 2ms/step - loss: 0.1195 - mse: 0.1235 - val_loss: 0.1003 - val_mse: 0.0674\n",
      "Epoch 21/80\n",
      "2157/2157 [==============================] - 4s 2ms/step - loss: 0.1194 - mse: 0.1236 - val_loss: 0.1001 - val_mse: 0.0673\n",
      "Epoch 22/80\n",
      "2157/2157 [==============================] - 4s 2ms/step - loss: 0.1194 - mse: 0.1234 - val_loss: 0.1003 - val_mse: 0.0675\n",
      "Epoch 23/80\n",
      "2157/2157 [==============================] - 4s 2ms/step - loss: 0.1193 - mse: 0.1234 - val_loss: 0.1002 - val_mse: 0.0673\n",
      "Epoch 24/80\n",
      "2157/2157 [==============================] - 4s 2ms/step - loss: 0.1194 - mse: 0.1234 - val_loss: 0.1002 - val_mse: 0.0673\n",
      "Epoch 25/80\n",
      "2157/2157 [==============================] - 4s 2ms/step - loss: 0.1193 - mse: 0.1234 - val_loss: 0.1000 - val_mse: 0.0672\n",
      "Epoch 26/80\n",
      "2157/2157 [==============================] - 4s 2ms/step - loss: 0.1193 - mse: 0.1234 - val_loss: 0.0998 - val_mse: 0.0669\n",
      "Epoch 27/80\n",
      "2157/2157 [==============================] - 4s 2ms/step - loss: 0.1193 - mse: 0.1234 - val_loss: 0.0998 - val_mse: 0.0669\n",
      "Epoch 28/80\n",
      "2157/2157 [==============================] - 4s 2ms/step - loss: 0.1193 - mse: 0.1234 - val_loss: 0.0997 - val_mse: 0.0668\n",
      "Epoch 29/80\n",
      "2157/2157 [==============================] - 4s 2ms/step - loss: 0.1193 - mse: 0.1233 - val_loss: 0.0998 - val_mse: 0.0669\n",
      "Epoch 30/80\n",
      "2157/2157 [==============================] - 4s 2ms/step - loss: 0.1193 - mse: 0.1233 - val_loss: 0.0996 - val_mse: 0.0667\n",
      "Epoch 31/80\n",
      "2157/2157 [==============================] - 4s 2ms/step - loss: 0.1192 - mse: 0.1231 - val_loss: 0.0997 - val_mse: 0.0668\n",
      "Epoch 32/80\n",
      "2157/2157 [==============================] - 4s 2ms/step - loss: 0.1193 - mse: 0.1234 - val_loss: 0.0996 - val_mse: 0.0667\n",
      "Epoch 33/80\n",
      "2157/2157 [==============================] - 4s 2ms/step - loss: 0.1192 - mse: 0.1232 - val_loss: 0.0996 - val_mse: 0.0666\n",
      "Epoch 34/80\n",
      "2157/2157 [==============================] - 4s 2ms/step - loss: 0.1192 - mse: 0.1231 - val_loss: 0.0995 - val_mse: 0.0666\n",
      "Epoch 35/80\n",
      "2157/2157 [==============================] - 4s 2ms/step - loss: 0.1192 - mse: 0.1232 - val_loss: 0.0995 - val_mse: 0.0666\n",
      "Epoch 36/80\n",
      "2157/2157 [==============================] - 4s 2ms/step - loss: 0.1192 - mse: 0.1232 - val_loss: 0.0995 - val_mse: 0.0666\n",
      "Epoch 37/80\n",
      "2157/2157 [==============================] - 4s 2ms/step - loss: 0.1191 - mse: 0.1231 - val_loss: 0.0995 - val_mse: 0.0666\n",
      "Epoch 38/80\n",
      "2157/2157 [==============================] - 4s 2ms/step - loss: 0.1192 - mse: 0.1232 - val_loss: 0.0994 - val_mse: 0.0666\n",
      "Epoch 39/80\n",
      "2157/2157 [==============================] - 4s 2ms/step - loss: 0.1192 - mse: 0.1232 - val_loss: 0.0993 - val_mse: 0.0664\n",
      "Epoch 40/80\n",
      "2157/2157 [==============================] - 4s 2ms/step - loss: 0.1192 - mse: 0.1232 - val_loss: 0.0995 - val_mse: 0.0665\n",
      "Epoch 41/80\n",
      "2157/2157 [==============================] - 4s 2ms/step - loss: 0.1192 - mse: 0.1232 - val_loss: 0.0994 - val_mse: 0.0665\n",
      "Epoch 42/80\n",
      "2157/2157 [==============================] - 4s 2ms/step - loss: 0.1191 - mse: 0.1231 - val_loss: 0.0994 - val_mse: 0.0665\n",
      "Epoch 43/80\n",
      "2157/2157 [==============================] - 4s 2ms/step - loss: 0.1191 - mse: 0.1231 - val_loss: 0.0994 - val_mse: 0.0664\n",
      "Epoch 44/80\n",
      "2157/2157 [==============================] - 4s 2ms/step - loss: 0.1192 - mse: 0.1232 - val_loss: 0.0994 - val_mse: 0.0665\n",
      "Epoch 45/80\n",
      "2157/2157 [==============================] - 4s 2ms/step - loss: 0.1190 - mse: 0.1230 - val_loss: 0.0994 - val_mse: 0.0664\n",
      "Epoch 46/80\n",
      "2157/2157 [==============================] - 4s 2ms/step - loss: 0.1192 - mse: 0.1232 - val_loss: 0.0993 - val_mse: 0.0663\n",
      "Epoch 47/80\n",
      "2157/2157 [==============================] - 4s 2ms/step - loss: 0.1191 - mse: 0.1231 - val_loss: 0.0994 - val_mse: 0.0664\n",
      "Epoch 48/80\n",
      "2157/2157 [==============================] - 4s 2ms/step - loss: 0.1190 - mse: 0.1230 - val_loss: 0.0993 - val_mse: 0.0664\n",
      "Epoch 49/80\n",
      "2157/2157 [==============================] - 4s 2ms/step - loss: 0.1191 - mse: 0.1232 - val_loss: 0.0994 - val_mse: 0.0664\n",
      "Epoch 50/80\n",
      "2157/2157 [==============================] - 4s 2ms/step - loss: 0.1191 - mse: 0.1230 - val_loss: 0.0993 - val_mse: 0.0663\n",
      "Epoch 51/80\n",
      "2157/2157 [==============================] - 4s 2ms/step - loss: 0.1190 - mse: 0.1230 - val_loss: 0.0993 - val_mse: 0.0662\n",
      "Epoch 52/80\n",
      "2157/2157 [==============================] - 4s 2ms/step - loss: 0.1190 - mse: 0.1230 - val_loss: 0.0993 - val_mse: 0.0662\n",
      "Epoch 53/80\n",
      "2157/2157 [==============================] - 4s 2ms/step - loss: 0.1191 - mse: 0.1231 - val_loss: 0.0995 - val_mse: 0.0664\n",
      "Epoch 54/80\n",
      "2157/2157 [==============================] - 4s 2ms/step - loss: 0.1190 - mse: 0.1230 - val_loss: 0.0993 - val_mse: 0.0662\n",
      "Epoch 55/80\n",
      "2157/2157 [==============================] - 4s 2ms/step - loss: 0.1190 - mse: 0.1229 - val_loss: 0.0993 - val_mse: 0.0662\n",
      "Epoch 56/80\n",
      "2157/2157 [==============================] - 4s 2ms/step - loss: 0.1190 - mse: 0.1229 - val_loss: 0.0993 - val_mse: 0.0662\n",
      "Epoch 57/80\n",
      "2157/2157 [==============================] - 4s 2ms/step - loss: 0.1190 - mse: 0.1230 - val_loss: 0.0994 - val_mse: 0.0663\n",
      "Epoch 58/80\n",
      "2157/2157 [==============================] - 4s 2ms/step - loss: 0.1190 - mse: 0.1229 - val_loss: 0.0993 - val_mse: 0.0661\n",
      "Epoch 59/80\n",
      "2157/2157 [==============================] - 4s 2ms/step - loss: 0.1190 - mse: 0.1229 - val_loss: 0.0993 - val_mse: 0.0661\n",
      "Epoch 60/80\n",
      "2157/2157 [==============================] - 4s 2ms/step - loss: 0.1190 - mse: 0.1230 - val_loss: 0.0992 - val_mse: 0.0661\n",
      "Epoch 61/80\n",
      "2157/2157 [==============================] - 4s 2ms/step - loss: 0.1190 - mse: 0.1230 - val_loss: 0.0992 - val_mse: 0.0661\n",
      "Epoch 62/80\n",
      "2157/2157 [==============================] - 4s 2ms/step - loss: 0.1190 - mse: 0.1230 - val_loss: 0.0992 - val_mse: 0.0662\n",
      "Epoch 63/80\n",
      "2157/2157 [==============================] - 4s 2ms/step - loss: 0.1189 - mse: 0.1229 - val_loss: 0.0994 - val_mse: 0.0662\n",
      "Epoch 64/80\n",
      "2157/2157 [==============================] - 4s 2ms/step - loss: 0.1190 - mse: 0.1230 - val_loss: 0.0993 - val_mse: 0.0662\n",
      "Epoch 65/80\n",
      "2157/2157 [==============================] - 4s 2ms/step - loss: 0.1189 - mse: 0.1229 - val_loss: 0.0994 - val_mse: 0.0662\n",
      "Epoch 66/80\n",
      "2157/2157 [==============================] - 4s 2ms/step - loss: 0.1189 - mse: 0.1227 - val_loss: 0.0994 - val_mse: 0.0662\n",
      "Epoch 67/80\n",
      "2157/2157 [==============================] - 4s 2ms/step - loss: 0.1189 - mse: 0.1228 - val_loss: 0.0993 - val_mse: 0.0661\n",
      "Epoch 68/80\n",
      "2157/2157 [==============================] - 7s 3ms/step - loss: 0.1190 - mse: 0.1229 - val_loss: 0.0993 - val_mse: 0.0662\n",
      "Epoch 69/80\n",
      "2157/2157 [==============================] - 5s 2ms/step - loss: 0.1189 - mse: 0.1228 - val_loss: 0.0993 - val_mse: 0.0662\n",
      "Epoch 70/80\n",
      "2157/2157 [==============================] - 4s 2ms/step - loss: 0.1188 - mse: 0.1227 - val_loss: 0.0994 - val_mse: 0.0661\n",
      "Epoch 71/80\n",
      "2157/2157 [==============================] - 4s 2ms/step - loss: 0.1189 - mse: 0.1228 - val_loss: 0.0993 - val_mse: 0.0661\n",
      "Epoch 72/80\n",
      "2157/2157 [==============================] - 4s 2ms/step - loss: 0.1190 - mse: 0.1228 - val_loss: 0.0993 - val_mse: 0.0662\n",
      "Epoch 73/80\n",
      "2157/2157 [==============================] - 4s 2ms/step - loss: 0.1189 - mse: 0.1229 - val_loss: 0.0992 - val_mse: 0.0661\n",
      "Epoch 74/80\n",
      "2157/2157 [==============================] - 4s 2ms/step - loss: 0.1188 - mse: 0.1227 - val_loss: 0.0992 - val_mse: 0.0660\n",
      "Epoch 75/80\n",
      "2157/2157 [==============================] - 4s 2ms/step - loss: 0.1189 - mse: 0.1228 - val_loss: 0.0993 - val_mse: 0.0661\n",
      "Epoch 76/80\n",
      "2157/2157 [==============================] - 4s 2ms/step - loss: 0.1188 - mse: 0.1227 - val_loss: 0.0993 - val_mse: 0.0661\n",
      "Epoch 77/80\n",
      "2157/2157 [==============================] - 4s 2ms/step - loss: 0.1188 - mse: 0.1228 - val_loss: 0.0993 - val_mse: 0.0661\n",
      "Epoch 78/80\n",
      "2157/2157 [==============================] - 4s 2ms/step - loss: 0.1188 - mse: 0.1227 - val_loss: 0.0992 - val_mse: 0.0660\n",
      "Epoch 79/80\n",
      "2157/2157 [==============================] - 4s 2ms/step - loss: 0.1189 - mse: 0.1230 - val_loss: 0.0992 - val_mse: 0.0660\n",
      "Epoch 80/80\n",
      "2157/2157 [==============================] - 4s 2ms/step - loss: 0.1188 - mse: 0.1227 - val_loss: 0.0993 - val_mse: 0.0660\n"
     ],
     "name": "stdout"
    },
    {
     "output_type": "execute_result",
     "data": {
      "text/plain": [
       "<tensorflow.python.keras.callbacks.History at 0x7f9fdeae3d30>"
      ]
     },
     "metadata": {
      "tags": []
     },
     "execution_count": 174
    }
   ]
  },
  {
   "cell_type": "code",
   "metadata": {
    "pycharm": {
     "name": "#%%\n"
    },
    "id": "sY9EgNpOSp8s"
   },
   "source": [
    "c = 'Racine'\n",
    "s = 'WI'\n",
    "r = df[(df['state']==s)&(df['county']==c)]"
   ],
   "execution_count": 175,
   "outputs": []
  },
  {
   "cell_type": "code",
   "metadata": {
    "pycharm": {
     "name": "#%%\n"
    },
    "id": "lCSQPQbsSp87",
    "outputId": "cfea7afd-b33b-4100-ba84-26802a6e37d4",
    "colab": {
     "base_uri": "https://localhost:8080/"
    }
   },
   "source": [
    "model4 = tf.keras.models.load_model('model.h5')\n",
    "\n",
    "row = r.drop(columns=['state','county'])\n",
    "row = row.to_numpy()\n",
    "dataset = getDataset(row,8,False)\n",
    "model4.summary()"
   ],
   "execution_count": 184,
   "outputs": [
    {
     "output_type": "stream",
     "text": [
      "Model: \"sequential_29\"\n",
      "_________________________________________________________________\n",
      "Layer (type)                 Output Shape              Param #   \n",
      "=================================================================\n",
      "conv1d_29 (Conv1D)           (None, 3, 16)             48        \n",
      "_________________________________________________________________\n",
      "dense_116 (Dense)            (None, 3, 32)             544       \n",
      "_________________________________________________________________\n",
      "dense_117 (Dense)            (None, 3, 64)             2112      \n",
      "_________________________________________________________________\n",
      "dense_118 (Dense)            (None, 3, 128)            8320      \n",
      "_________________________________________________________________\n",
      "flatten_29 (Flatten)         (None, 384)               0         \n",
      "_________________________________________________________________\n",
      "dense_119 (Dense)            (None, 1)                 385       \n",
      "=================================================================\n",
      "Total params: 11,409\n",
      "Trainable params: 11,409\n",
      "Non-trainable params: 0\n",
      "_________________________________________________________________\n"
     ],
     "name": "stdout"
    }
   ]
  },
  {
   "cell_type": "code",
   "metadata": {
    "pycharm": {
     "name": "#%%\n"
    },
    "id": "J-2cK6uCSp9k",
    "outputId": "11654c29-91bb-4f74-92e5-b6e17624d778",
    "colab": {
     "base_uri": "https://localhost:8080/",
     "height": 295
    }
   },
   "source": [
    "results = model4.predict(dataset)\n",
    "results"
   ],
   "execution_count": 179,
   "outputs": [
    {
     "output_type": "display_data",
     "data": {
      "image/png": "[encoded data removed]",
      "text/plain": [
       "<Figure size 432x288 with 1 Axes>"
      ]
     },
     "metadata": {
      "tags": [],
      "needs_background": "light"
     }
    }
   ]
  }
 ]
}