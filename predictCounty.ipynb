{
 "nbformat": 4,
 "nbformat_minor": 0,
 "metadata": {
  "kernelspec": {
   "display_name": "Python 3",
   "language": "python",
   "name": "python3"
  },
  "language_info": {
   "codemirror_mode": {
    "name": "ipython",
    "version": 3
   },
   "file_extension": ".py",
   "mimetype": "text/x-python",
   "name": "python",
   "nbconvert_exporter": "python",
   "pygments_lexer": "ipython3",
   "version": "3.7.3"
  },
  "colab": {
   "name": "predictCounty.ipynb",
   "provenance": []
  },
  "accelerator": "GPU"
 },
 "cells": [
  {
   "cell_type": "code",
   "metadata": {
    "id": "CsluoFv7Sp2j"
   },
   "source": [
    "import tensorflow as tf\n",
    "import numpy as np\n",
    "import pandas as pd\n",
    "import matplotlib.pyplot as plt"
   ],
   "execution_count": 1,
   "outputs": []
  },
  {
   "cell_type": "code",
   "metadata": {
    "pycharm": {
     "name": "#%%\n"
    },
    "id": "tlcuuCFhSp3G"
   },
   "source": [
    "years = range(2000,2020,4)\n",
    "df = pd.read_csv('counties.csv')"
   ],
   "execution_count": 2,
   "outputs": []
  },
  {
   "cell_type": "code",
   "metadata": {
    "pycharm": {
     "name": "#%%\n"
    },
    "id": "PrR6Do9iSp3f",
    "outputId": "ef30d833-25c4-4aaf-c6b9-b6821f10ab5c",
    "colab": {
     "base_uri": "https://localhost:8080/",
     "height": 317
    }
   },
   "source": [
    "data = df.drop(columns=['state', 'county'])\n",
    "data = data.dropna(axis=0,how='any')\n",
    "data.describe()"
   ],
   "execution_count": 3,
   "outputs": [
    {
     "output_type": "execute_result",
     "data": {
      "text/html": [
       "<div>\n",
       "<style scoped>\n",
       "    .dataframe tbody tr th:only-of-type {\n",
       "        vertical-align: middle;\n",
       "    }\n",
       "\n",
       "    .dataframe tbody tr th {\n",
       "        vertical-align: top;\n",
       "    }\n",
       "\n",
       "    .dataframe thead th {\n",
       "        text-align: right;\n",
       "    }\n",
       "</style>\n",
       "<table border=\"1\" class=\"dataframe\">\n",
       "  <thead>\n",
       "    <tr style=\"text-align: right;\">\n",
       "      <th></th>\n",
       "      <th>2000D</th>\n",
       "      <th>2000R</th>\n",
       "      <th>2000O</th>\n",
       "      <th>2004D</th>\n",
       "      <th>2004R</th>\n",
       "      <th>2004O</th>\n",
       "      <th>2008D</th>\n",
       "      <th>2008R</th>\n",
       "      <th>2008O</th>\n",
       "      <th>2012D</th>\n",
       "      <th>2012R</th>\n",
       "      <th>2012O</th>\n",
       "      <th>2016D</th>\n",
       "      <th>2016R</th>\n",
       "      <th>2016O</th>\n",
       "    </tr>\n",
       "  </thead>\n",
       "  <tbody>\n",
       "    <tr>\n",
       "      <th>count</th>\n",
       "      <td>2.875000e+03</td>\n",
       "      <td>2875.000000</td>\n",
       "      <td>2875.000000</td>\n",
       "      <td>2.875000e+03</td>\n",
       "      <td>2.875000e+03</td>\n",
       "      <td>2875.000000</td>\n",
       "      <td>2.875000e+03</td>\n",
       "      <td>2875.000000</td>\n",
       "      <td>2875.000000</td>\n",
       "      <td>2.875000e+03</td>\n",
       "      <td>2875.000000</td>\n",
       "      <td>2875.000000</td>\n",
       "      <td>2.875000e+03</td>\n",
       "      <td>2875.000000</td>\n",
       "      <td>2875.000000</td>\n",
       "    </tr>\n",
       "    <tr>\n",
       "      <th>mean</th>\n",
       "      <td>1.699424e+04</td>\n",
       "      <td>16533.856000</td>\n",
       "      <td>1352.073391</td>\n",
       "      <td>1.956915e+04</td>\n",
       "      <td>2.028555e+04</td>\n",
       "      <td>508.671652</td>\n",
       "      <td>2.298134e+04</td>\n",
       "      <td>19539.632696</td>\n",
       "      <td>610.991304</td>\n",
       "      <td>2.171365e+04</td>\n",
       "      <td>19761.090783</td>\n",
       "      <td>886.516522</td>\n",
       "      <td>2.175607e+04</td>\n",
       "      <td>20524.178783</td>\n",
       "      <td>2543.772522</td>\n",
       "    </tr>\n",
       "    <tr>\n",
       "      <th>std</th>\n",
       "      <td>5.942532e+04</td>\n",
       "      <td>39923.542134</td>\n",
       "      <td>4232.141433</td>\n",
       "      <td>6.769202e+04</td>\n",
       "      <td>4.869764e+04</td>\n",
       "      <td>1976.171276</td>\n",
       "      <td>7.944593e+04</td>\n",
       "      <td>45955.629730</td>\n",
       "      <td>1913.652362</td>\n",
       "      <td>7.628626e+04</td>\n",
       "      <td>45649.528293</td>\n",
       "      <td>3056.034805</td>\n",
       "      <td>8.298175e+04</td>\n",
       "      <td>44262.493478</td>\n",
       "      <td>7726.198627</td>\n",
       "    </tr>\n",
       "    <tr>\n",
       "      <th>min</th>\n",
       "      <td>1.400000e+01</td>\n",
       "      <td>106.000000</td>\n",
       "      <td>3.000000</td>\n",
       "      <td>1.200000e+01</td>\n",
       "      <td>6.500000e+01</td>\n",
       "      <td>0.000000</td>\n",
       "      <td>8.000000e+00</td>\n",
       "      <td>67.000000</td>\n",
       "      <td>0.000000</td>\n",
       "      <td>5.000000e+00</td>\n",
       "      <td>54.000000</td>\n",
       "      <td>1.000000</td>\n",
       "      <td>4.000000e+00</td>\n",
       "      <td>58.000000</td>\n",
       "      <td>3.000000</td>\n",
       "    </tr>\n",
       "    <tr>\n",
       "      <th>25%</th>\n",
       "      <td>1.751500e+03</td>\n",
       "      <td>2689.000000</td>\n",
       "      <td>109.000000</td>\n",
       "      <td>1.882500e+03</td>\n",
       "      <td>3.124500e+03</td>\n",
       "      <td>43.000000</td>\n",
       "      <td>1.930500e+03</td>\n",
       "      <td>2956.000000</td>\n",
       "      <td>78.500000</td>\n",
       "      <td>1.662500e+03</td>\n",
       "      <td>3021.500000</td>\n",
       "      <td>84.000000</td>\n",
       "      <td>1.240000e+03</td>\n",
       "      <td>3346.000000</td>\n",
       "      <td>195.000000</td>\n",
       "    </tr>\n",
       "    <tr>\n",
       "      <th>50%</th>\n",
       "      <td>3.830000e+03</td>\n",
       "      <td>5363.000000</td>\n",
       "      <td>278.000000</td>\n",
       "      <td>4.177000e+03</td>\n",
       "      <td>6.522000e+03</td>\n",
       "      <td>98.000000</td>\n",
       "      <td>4.493000e+03</td>\n",
       "      <td>6297.000000</td>\n",
       "      <td>182.000000</td>\n",
       "      <td>4.014000e+03</td>\n",
       "      <td>6398.000000</td>\n",
       "      <td>195.000000</td>\n",
       "      <td>3.199000e+03</td>\n",
       "      <td>7194.000000</td>\n",
       "      <td>529.000000</td>\n",
       "    </tr>\n",
       "    <tr>\n",
       "      <th>75%</th>\n",
       "      <td>9.580500e+03</td>\n",
       "      <td>13166.000000</td>\n",
       "      <td>886.500000</td>\n",
       "      <td>1.078350e+04</td>\n",
       "      <td>1.646800e+04</td>\n",
       "      <td>302.000000</td>\n",
       "      <td>1.262450e+04</td>\n",
       "      <td>16042.000000</td>\n",
       "      <td>453.500000</td>\n",
       "      <td>1.147700e+04</td>\n",
       "      <td>16391.500000</td>\n",
       "      <td>564.000000</td>\n",
       "      <td>9.940500e+03</td>\n",
       "      <td>17945.500000</td>\n",
       "      <td>1736.500000</td>\n",
       "    </tr>\n",
       "    <tr>\n",
       "      <th>max</th>\n",
       "      <td>1.710505e+06</td>\n",
       "      <td>871930.000000</td>\n",
       "      <td>112719.000000</td>\n",
       "      <td>1.907736e+06</td>\n",
       "      <td>1.076225e+06</td>\n",
       "      <td>39515.000000</td>\n",
       "      <td>2.295853e+06</td>\n",
       "      <td>956425.000000</td>\n",
       "      <td>65970.000000</td>\n",
       "      <td>2.216903e+06</td>\n",
       "      <td>885333.000000</td>\n",
       "      <td>78831.000000</td>\n",
       "      <td>2.464364e+06</td>\n",
       "      <td>769743.000000</td>\n",
       "      <td>200201.000000</td>\n",
       "    </tr>\n",
       "  </tbody>\n",
       "</table>\n",
       "</div>"
      ],
      "text/plain": [
       "              2000D          2000R  ...          2016R          2016O\n",
       "count  2.875000e+03    2875.000000  ...    2875.000000    2875.000000\n",
       "mean   1.699424e+04   16533.856000  ...   20524.178783    2543.772522\n",
       "std    5.942532e+04   39923.542134  ...   44262.493478    7726.198627\n",
       "min    1.400000e+01     106.000000  ...      58.000000       3.000000\n",
       "25%    1.751500e+03    2689.000000  ...    3346.000000     195.000000\n",
       "50%    3.830000e+03    5363.000000  ...    7194.000000     529.000000\n",
       "75%    9.580500e+03   13166.000000  ...   17945.500000    1736.500000\n",
       "max    1.710505e+06  871930.000000  ...  769743.000000  200201.000000\n",
       "\n",
       "[8 rows x 15 columns]"
      ]
     },
     "metadata": {
      "tags": []
     },
     "execution_count": 3
    }
   ]
  },
  {
   "cell_type": "code",
   "metadata": {
    "pycharm": {
     "name": "#%%\n"
    },
    "id": "0-LVluzeSp4P"
   },
   "source": [
    "data = data.to_numpy(dtype=np.int64)\n"
   ],
   "execution_count": 4,
   "outputs": []
  },
  {
   "cell_type": "code",
   "metadata": {
    "pycharm": {
     "name": "#%%\n"
    },
    "id": "YMNKgPOuSp5D"
   },
   "source": [
    "def plotCounty(state,county,dem,gop,other,predicted=None):\n",
    "    if predicted is None:\n",
    "        years = range(2000,2020,4)\n",
    "        plt.figure()\n",
    "        plt.plot(years,dem,'b',label='Democrat')\n",
    "        plt.plot(years,gop,'r',label='Republican')\n",
    "        plt.plot(years,other,'y',label='Other')\n",
    "        plt.plot(years,dem+gop+other,'k',label='Total')\n",
    "    else:\n",
    "        years = range(2000,2024,4)\n",
    "        plt.figure()\n",
    "        d = np.append(dem,predicted[0]*20000)\n",
    "        r = np.append(gop,predicted[1]*20000)\n",
    "        o = np.append(other,predicted[2]*250)\n",
    "        plt.plot(years,d,'b',label='Democrat')\n",
    "        plt.plot(years,r,'r',label='Republican')\n",
    "        plt.plot(years,o,'y',label='Other')\n",
    "        plt.plot(years,d+r+o,'k',label='Total')\n",
    "    plt.xlabel('Year')\n",
    "    plt.ylabel('Votes')\n",
    "    plt.title(county+', '+state)\n",
    "    plt.xticks(years)\n",
    "    plt.legend()\n",
    "    plt.show()"
   ],
   "execution_count": 5,
   "outputs": []
  },
  {
   "cell_type": "code",
   "metadata": {
    "pycharm": {
     "name": "#%%\n"
    },
    "id": "BhlfhjBISp6o",
    "outputId": "3541f29e-2c9c-473a-f231-778cb2b9bd0c",
    "colab": {
     "base_uri": "https://localhost:8080/",
     "height": 374
    }
   },
   "source": [
    "def convertbyParty(point):\n",
    "    d = point[:,::3]/20000\n",
    "    r = point[:,1::3]/20000\n",
    "    o = point[:,2::3]/250\n",
    "    return d,r,o\n",
    "print(df.loc[0])\n",
    "convertbyParty(np.expand_dims(df.loc[0].values[2:],0))"
   ],
   "execution_count": 6,
   "outputs": [
    {
     "output_type": "stream",
     "text": [
      "state          AL\n",
      "county    Autauga\n",
      "2000D        4942\n",
      "2000R       11993\n",
      "2000O         273\n",
      "2004D        4758\n",
      "2004R       15196\n",
      "2004O         127\n",
      "2008D        6093\n",
      "2008R       17403\n",
      "2008O         145\n",
      "2012D        6363\n",
      "2012R       17379\n",
      "2012O         190\n",
      "2016D        5936\n",
      "2016R       18172\n",
      "2016O         865\n",
      "Name: 0, dtype: object\n"
     ],
     "name": "stdout"
    },
    {
     "output_type": "execute_result",
     "data": {
      "text/plain": [
       "(array([[0.2471, 0.2379, 0.30465, 0.31815, 0.2968]], dtype=object),\n",
       " array([[0.59965, 0.7598, 0.87015, 0.86895, 0.9086]], dtype=object),\n",
       " array([[1.092, 0.508, 0.58, 0.76, 3.46]], dtype=object))"
      ]
     },
     "metadata": {
      "tags": []
     },
     "execution_count": 6
    }
   ]
  },
  {
   "cell_type": "code",
   "metadata": {
    "pycharm": {
     "name": "#%%\n"
    },
    "id": "sKpS8inlSp7A"
   },
   "source": [
    "def getDataset(data,batch_size,split=True):\n",
    "    data = np.expand_dims(data,axis=-1)\n",
    "    if split:\n",
    "        np.random.shuffle(data)\n",
    "    num = data.shape[0]\n",
    "    train_data = data[:int(num*0.6)]\n",
    "    val_data = data[int(num*0.6):int(num*0.8)]\n",
    "    test_data = data[int(num*0.8):]\n",
    "    def createDS(point,label=True):\n",
    "        d,r,o=convertbyParty(point)\n",
    "\n",
    "        if label:\n",
    "            new_data = np.vstack((d,r))\n",
    "            new_data = np.vstack((new_data,new_data*1.5,new_data*2))\n",
    "        else:\n",
    "            new_data = np.vstack((d,r,o))\n",
    "        ds = tf.data.Dataset.from_tensor_slices(new_data)\n",
    "        if label:\n",
    "            ds = ds.map(lambda p: (p[:-1],p[-1]))\n",
    "        else:\n",
    "            ds = ds.map(lambda p: p[1:])\n",
    "        return ds.batch(batch_size).prefetch(1) if label else ds\n",
    "    if split:\n",
    "        return createDS(train_data),createDS(val_data),createDS(test_data)\n",
    "    else:\n",
    "        return createDS(data,False).batch(100000)"
   ],
   "execution_count": 7,
   "outputs": []
  },
  {
   "cell_type": "code",
   "metadata": {
    "pycharm": {
     "name": "#%%\n"
    },
    "id": "FuRS8y-8Sp7O",
    "outputId": "8db96494-6aa5-4523-ace3-d9db98f02150",
    "colab": {
     "base_uri": "https://localhost:8080/",
     "height": 34
    }
   },
   "source": [
    "train_ds, val_ds, test_ds = getDataset(data,8)\n",
    "# list(getDataset(data,1,False))[:3]\n",
    "train_ds\n"
   ],
   "execution_count": 8,
   "outputs": [
    {
     "output_type": "execute_result",
     "data": {
      "text/plain": [
       "<PrefetchDataset shapes: ((None, 4, 1), (None, 1)), types: (tf.float64, tf.float64)>"
      ]
     },
     "metadata": {
      "tags": []
     },
     "execution_count": 8
    }
   ]
  },
  {
   "cell_type": "code",
   "metadata": {
    "pycharm": {
     "name": "#%%\n"
    },
    "id": "bHcc7PIxSp7h"
   },
   "source": [
    "# model = tf.keras.Sequential([\n",
    "#     tf.keras.layers.Conv1D(2,2,activation='relu',input_shape=(4,1)),\n",
    "#     tf.keras.layers.Conv1D(2,2,activation='relu'),\n",
    "#     tf.keras.layers.Flatten(),\n",
    "#     tf.keras.layers.Dense(4,activation='relu'),\n",
    "#     tf.keras.layers.Reshape((4,1)),\n",
    "#     tf.keras.layers.LSTM(8,return_sequences=True),\n",
    "#     tf.keras.layers.LSTM(8,return_sequences=True),\n",
    "#     tf.keras.layers.LSTM(8,return_sequences=True),\n",
    "# ])"
   ],
   "execution_count": 9,
   "outputs": []
  },
  {
   "cell_type": "code",
   "metadata": {
    "pycharm": {
     "name": "#%%\n"
    },
    "id": "bKa-U7wESp7w"
   },
   "source": [
    "model = tf.keras.Sequential([\n",
    "    tf.keras.layers.Conv1D(4,2,activation='relu',input_shape=(4,1)),\n",
    "    tf.keras.layers.GRU(8,return_sequences=True),\n",
    "    tf.keras.layers.GRU(8),\n",
    "    tf.keras.layers.Dense(1)\n",
    "])"
   ],
   "execution_count": 54,
   "outputs": []
  },
  {
   "cell_type": "code",
   "metadata": {
    "pycharm": {
     "name": "#%%\n"
    },
    "id": "Sm_qpTzDSp7-",
    "outputId": "84a02eb5-ce0d-46cf-fe39-4464ca77a405",
    "colab": {
     "base_uri": "https://localhost:8080/",
     "height": 289
    }
   },
   "source": [
    "lr_schedule = tf.keras.callbacks.LearningRateScheduler(lambda epoch: 1e-6 * 10**(epoch / 20))\n",
    "optimizer = tf.keras.optimizers.Adam(lr=1e-6)\n",
    "model.compile(loss='mae',optimizer=optimizer,metrics=['mse'])\n",
    "model.summary()"
   ],
   "execution_count": 61,
   "outputs": [
    {
     "output_type": "stream",
     "text": [
      "Model: \"sequential_4\"\n",
      "_________________________________________________________________\n",
      "Layer (type)                 Output Shape              Param #   \n",
      "=================================================================\n",
      "conv1d_1 (Conv1D)            (None, 3, 4)              12        \n",
      "_________________________________________________________________\n",
      "gru_8 (GRU)                  (None, 3, 8)              336       \n",
      "_________________________________________________________________\n",
      "gru_9 (GRU)                  (None, 8)                 432       \n",
      "_________________________________________________________________\n",
      "dense_4 (Dense)              (None, 1)                 9         \n",
      "=================================================================\n",
      "Total params: 789\n",
      "Trainable params: 789\n",
      "Non-trainable params: 0\n",
      "_________________________________________________________________\n"
     ],
     "name": "stdout"
    }
   ]
  },
  {
   "cell_type": "code",
   "metadata": {
    "pycharm": {
     "name": "#%%\n"
    },
    "id": "SR-cfHLeSp8N"
   },
   "source": [
    "model_checkpoint = tf.keras.callbacks.ModelCheckpoint(\"model.h5\", save_best_only=True)\n",
    "early_stopping = tf.keras.callbacks.EarlyStopping(patience=50)\n"
   ],
   "execution_count": 44,
   "outputs": []
  },
  {
   "cell_type": "code",
   "metadata": {
    "pycharm": {
     "name": "#%%\n"
    },
    "id": "lmf1QmWbSp8c",
    "outputId": "186a5794-7885-4d9e-96b3-190f6be68df0",
    "colab": {
     "base_uri": "https://localhost:8080/",
     "height": 1000
    }
   },
   "source": [
    "# history = model.fit(train_ds,epochs=100,validation_data=val_ds,callbacks=[lr_schedule])\n",
    "# plt.semilogx(history.history[\"lr\"], history.history[\"loss\"])\n",
    "# plt.axis([1e-6, 10, 0, 3])\n",
    "def getlr(epoch):\n",
    "  return 1e-4\n",
    "new_lr = tf.keras.callbacks.LearningRateScheduler(getlr)\n",
    "model.fit(train_ds,epochs=1000,validation_data=val_ds,callbacks=[model_checkpoint,early_stopping])"
   ],
   "execution_count": 62,
   "outputs": [
    {
     "output_type": "stream",
     "text": [
      "Epoch 1/1000\n",
      "1294/1294 [==============================] - 8s 6ms/step - loss: 0.1871 - mse: 7.2663 - val_loss: 0.1341 - val_mse: 0.1276\n",
      "Epoch 2/1000\n",
      "1294/1294 [==============================] - 7s 5ms/step - loss: 0.1857 - mse: 7.2661 - val_loss: 0.1337 - val_mse: 0.1275\n",
      "Epoch 3/1000\n",
      "1294/1294 [==============================] - 7s 5ms/step - loss: 0.1854 - mse: 7.2660 - val_loss: 0.1336 - val_mse: 0.1275\n",
      "Epoch 4/1000\n",
      "1294/1294 [==============================] - 7s 5ms/step - loss: 0.1853 - mse: 7.2659 - val_loss: 0.1335 - val_mse: 0.1275\n",
      "Epoch 5/1000\n",
      "1294/1294 [==============================] - 7s 6ms/step - loss: 0.1852 - mse: 7.2658 - val_loss: 0.1335 - val_mse: 0.1275\n",
      "Epoch 6/1000\n",
      "1294/1294 [==============================] - 7s 6ms/step - loss: 0.1852 - mse: 7.2658 - val_loss: 0.1334 - val_mse: 0.1275\n",
      "Epoch 7/1000\n",
      "1294/1294 [==============================] - 8s 6ms/step - loss: 0.1851 - mse: 7.2657 - val_loss: 0.1334 - val_mse: 0.1274\n",
      "Epoch 8/1000\n",
      "1294/1294 [==============================] - 7s 5ms/step - loss: 0.1850 - mse: 7.2656 - val_loss: 0.1333 - val_mse: 0.1275\n",
      "Epoch 9/1000\n",
      "1294/1294 [==============================] - 7s 5ms/step - loss: 0.1850 - mse: 7.2656 - val_loss: 0.1332 - val_mse: 0.1274\n",
      "Epoch 10/1000\n",
      "1294/1294 [==============================] - 7s 5ms/step - loss: 0.1849 - mse: 7.2655 - val_loss: 0.1332 - val_mse: 0.1275\n",
      "Epoch 11/1000\n",
      "1294/1294 [==============================] - 7s 5ms/step - loss: 0.1849 - mse: 7.2654 - val_loss: 0.1332 - val_mse: 0.1274\n",
      "Epoch 12/1000\n",
      "1294/1294 [==============================] - 7s 5ms/step - loss: 0.1848 - mse: 7.2654 - val_loss: 0.1331 - val_mse: 0.1275\n",
      "Epoch 13/1000\n",
      "1294/1294 [==============================] - 7s 6ms/step - loss: 0.1848 - mse: 7.2653 - val_loss: 0.1331 - val_mse: 0.1274\n",
      "Epoch 14/1000\n",
      "1294/1294 [==============================] - 7s 5ms/step - loss: 0.1847 - mse: 7.2652 - val_loss: 0.1330 - val_mse: 0.1274\n",
      "Epoch 15/1000\n",
      "1294/1294 [==============================] - 7s 5ms/step - loss: 0.1847 - mse: 7.2652 - val_loss: 0.1330 - val_mse: 0.1275\n",
      "Epoch 16/1000\n",
      "1294/1294 [==============================] - 7s 5ms/step - loss: 0.1846 - mse: 7.2651 - val_loss: 0.1330 - val_mse: 0.1274\n",
      "Epoch 17/1000\n",
      "1294/1294 [==============================] - 7s 6ms/step - loss: 0.1846 - mse: 7.2650 - val_loss: 0.1329 - val_mse: 0.1274\n",
      "Epoch 18/1000\n",
      "1294/1294 [==============================] - 7s 5ms/step - loss: 0.1846 - mse: 7.2650 - val_loss: 0.1329 - val_mse: 0.1274\n",
      "Epoch 19/1000\n",
      "1294/1294 [==============================] - 7s 5ms/step - loss: 0.1845 - mse: 7.2649 - val_loss: 0.1329 - val_mse: 0.1274\n",
      "Epoch 20/1000\n",
      "1294/1294 [==============================] - 7s 5ms/step - loss: 0.1845 - mse: 7.2648 - val_loss: 0.1329 - val_mse: 0.1274\n",
      "Epoch 21/1000\n",
      "1294/1294 [==============================] - 7s 6ms/step - loss: 0.1845 - mse: 7.2648 - val_loss: 0.1328 - val_mse: 0.1275\n",
      "Epoch 22/1000\n",
      "1294/1294 [==============================] - 7s 5ms/step - loss: 0.1845 - mse: 7.2647 - val_loss: 0.1328 - val_mse: 0.1274\n",
      "Epoch 23/1000\n",
      "1294/1294 [==============================] - 7s 6ms/step - loss: 0.1844 - mse: 7.2646 - val_loss: 0.1328 - val_mse: 0.1274\n",
      "Epoch 24/1000\n",
      "1294/1294 [==============================] - 7s 5ms/step - loss: 0.1844 - mse: 7.2646 - val_loss: 0.1328 - val_mse: 0.1274\n",
      "Epoch 25/1000\n",
      "1294/1294 [==============================] - 7s 6ms/step - loss: 0.1844 - mse: 7.2645 - val_loss: 0.1328 - val_mse: 0.1275\n",
      "Epoch 26/1000\n",
      "1294/1294 [==============================] - 7s 6ms/step - loss: 0.1844 - mse: 7.2644 - val_loss: 0.1327 - val_mse: 0.1274\n",
      "Epoch 27/1000\n",
      "1294/1294 [==============================] - 7s 5ms/step - loss: 0.1843 - mse: 7.2644 - val_loss: 0.1327 - val_mse: 0.1275\n",
      "Epoch 28/1000\n",
      "1294/1294 [==============================] - 7s 6ms/step - loss: 0.1843 - mse: 7.2643 - val_loss: 0.1327 - val_mse: 0.1274\n",
      "Epoch 29/1000\n",
      "1294/1294 [==============================] - 7s 6ms/step - loss: 0.1843 - mse: 7.2642 - val_loss: 0.1327 - val_mse: 0.1274\n",
      "Epoch 30/1000\n",
      "1294/1294 [==============================] - 7s 6ms/step - loss: 0.1843 - mse: 7.2642 - val_loss: 0.1327 - val_mse: 0.1275\n",
      "Epoch 31/1000\n",
      "1294/1294 [==============================] - 7s 6ms/step - loss: 0.1843 - mse: 7.2641 - val_loss: 0.1326 - val_mse: 0.1274\n",
      "Epoch 32/1000\n",
      "1294/1294 [==============================] - 7s 6ms/step - loss: 0.1843 - mse: 7.2641 - val_loss: 0.1326 - val_mse: 0.1275\n",
      "Epoch 33/1000\n",
      "1294/1294 [==============================] - 7s 6ms/step - loss: 0.1842 - mse: 7.2640 - val_loss: 0.1326 - val_mse: 0.1274\n",
      "Epoch 34/1000\n",
      "1294/1294 [==============================] - 8s 6ms/step - loss: 0.1842 - mse: 7.2639 - val_loss: 0.1326 - val_mse: 0.1274\n",
      "Epoch 35/1000\n",
      "1294/1294 [==============================] - 8s 6ms/step - loss: 0.1842 - mse: 7.2639 - val_loss: 0.1326 - val_mse: 0.1274\n",
      "Epoch 36/1000\n",
      "1294/1294 [==============================] - 7s 6ms/step - loss: 0.1842 - mse: 7.2638 - val_loss: 0.1326 - val_mse: 0.1274\n",
      "Epoch 37/1000\n",
      "1294/1294 [==============================] - 7s 6ms/step - loss: 0.1842 - mse: 7.2637 - val_loss: 0.1326 - val_mse: 0.1274\n",
      "Epoch 38/1000\n",
      "1294/1294 [==============================] - 8s 6ms/step - loss: 0.1842 - mse: 7.2637 - val_loss: 0.1326 - val_mse: 0.1275\n",
      "Epoch 39/1000\n",
      "1294/1294 [==============================] - 8s 6ms/step - loss: 0.1842 - mse: 7.2636 - val_loss: 0.1326 - val_mse: 0.1275\n",
      "Epoch 40/1000\n",
      "1294/1294 [==============================] - 8s 6ms/step - loss: 0.1842 - mse: 7.2636 - val_loss: 0.1326 - val_mse: 0.1275\n",
      "Epoch 41/1000\n",
      "1294/1294 [==============================] - 7s 6ms/step - loss: 0.1842 - mse: 7.2635 - val_loss: 0.1326 - val_mse: 0.1275\n",
      "Epoch 42/1000\n",
      "1294/1294 [==============================] - 7s 6ms/step - loss: 0.1842 - mse: 7.2634 - val_loss: 0.1326 - val_mse: 0.1274\n",
      "Epoch 43/1000\n",
      "1294/1294 [==============================] - 8s 6ms/step - loss: 0.1842 - mse: 7.2634 - val_loss: 0.1326 - val_mse: 0.1274\n",
      "Epoch 44/1000\n",
      "1294/1294 [==============================] - 7s 6ms/step - loss: 0.1841 - mse: 7.2633 - val_loss: 0.1326 - val_mse: 0.1275\n",
      "Epoch 45/1000\n",
      "1294/1294 [==============================] - 7s 6ms/step - loss: 0.1841 - mse: 7.2633 - val_loss: 0.1326 - val_mse: 0.1275\n",
      "Epoch 46/1000\n",
      "1294/1294 [==============================] - 7s 6ms/step - loss: 0.1841 - mse: 7.2632 - val_loss: 0.1326 - val_mse: 0.1275\n",
      "Epoch 47/1000\n",
      "1294/1294 [==============================] - 7s 6ms/step - loss: 0.1841 - mse: 7.2632 - val_loss: 0.1325 - val_mse: 0.1275\n",
      "Epoch 48/1000\n",
      "1294/1294 [==============================] - 7s 6ms/step - loss: 0.1841 - mse: 7.2631 - val_loss: 0.1325 - val_mse: 0.1275\n",
      "Epoch 49/1000\n",
      "1294/1294 [==============================] - 7s 6ms/step - loss: 0.1841 - mse: 7.2630 - val_loss: 0.1325 - val_mse: 0.1275\n",
      "Epoch 50/1000\n",
      "1294/1294 [==============================] - 7s 6ms/step - loss: 0.1841 - mse: 7.2630 - val_loss: 0.1325 - val_mse: 0.1275\n",
      "Epoch 51/1000\n",
      "1294/1294 [==============================] - 7s 6ms/step - loss: 0.1841 - mse: 7.2629 - val_loss: 0.1325 - val_mse: 0.1275\n",
      "Epoch 52/1000\n",
      "1294/1294 [==============================] - 7s 6ms/step - loss: 0.1841 - mse: 7.2629 - val_loss: 0.1325 - val_mse: 0.1275\n",
      "Epoch 53/1000\n",
      "1294/1294 [==============================] - 7s 6ms/step - loss: 0.1841 - mse: 7.2628 - val_loss: 0.1325 - val_mse: 0.1275\n",
      "Epoch 54/1000\n",
      "1294/1294 [==============================] - 7s 5ms/step - loss: 0.1841 - mse: 7.2628 - val_loss: 0.1325 - val_mse: 0.1275\n",
      "Epoch 55/1000\n",
      "1294/1294 [==============================] - 7s 6ms/step - loss: 0.1841 - mse: 7.2627 - val_loss: 0.1325 - val_mse: 0.1275\n",
      "Epoch 56/1000\n",
      "1294/1294 [==============================] - 7s 6ms/step - loss: 0.1841 - mse: 7.2626 - val_loss: 0.1325 - val_mse: 0.1275\n",
      "Epoch 57/1000\n",
      "1294/1294 [==============================] - 7s 6ms/step - loss: 0.1841 - mse: 7.2626 - val_loss: 0.1325 - val_mse: 0.1275\n",
      "Epoch 58/1000\n",
      "1294/1294 [==============================] - 7s 6ms/step - loss: 0.1841 - mse: 7.2625 - val_loss: 0.1325 - val_mse: 0.1275\n",
      "Epoch 59/1000\n",
      "1294/1294 [==============================] - 7s 6ms/step - loss: 0.1841 - mse: 7.2625 - val_loss: 0.1325 - val_mse: 0.1275\n",
      "Epoch 60/1000\n",
      "1294/1294 [==============================] - 7s 6ms/step - loss: 0.1841 - mse: 7.2624 - val_loss: 0.1325 - val_mse: 0.1275\n",
      "Epoch 61/1000\n",
      "1294/1294 [==============================] - 8s 6ms/step - loss: 0.1841 - mse: 7.2624 - val_loss: 0.1325 - val_mse: 0.1275\n",
      "Epoch 62/1000\n",
      "1294/1294 [==============================] - 7s 6ms/step - loss: 0.1841 - mse: 7.2623 - val_loss: 0.1325 - val_mse: 0.1275\n",
      "Epoch 63/1000\n",
      "1294/1294 [==============================] - 7s 6ms/step - loss: 0.1840 - mse: 7.2622 - val_loss: 0.1325 - val_mse: 0.1275\n",
      "Epoch 64/1000\n",
      "1294/1294 [==============================] - 7s 6ms/step - loss: 0.1840 - mse: 7.2622 - val_loss: 0.1325 - val_mse: 0.1276\n",
      "Epoch 65/1000\n",
      "1294/1294 [==============================] - 7s 6ms/step - loss: 0.1840 - mse: 7.2622 - val_loss: 0.1325 - val_mse: 0.1275\n",
      "Epoch 66/1000\n",
      "1294/1294 [==============================] - 7s 6ms/step - loss: 0.1840 - mse: 7.2621 - val_loss: 0.1325 - val_mse: 0.1276\n",
      "Epoch 67/1000\n",
      "1294/1294 [==============================] - 7s 6ms/step - loss: 0.1840 - mse: 7.2620 - val_loss: 0.1325 - val_mse: 0.1276\n",
      "Epoch 68/1000\n",
      "1294/1294 [==============================] - 7s 6ms/step - loss: 0.1840 - mse: 7.2620 - val_loss: 0.1325 - val_mse: 0.1276\n",
      "Epoch 69/1000\n",
      "1294/1294 [==============================] - 7s 6ms/step - loss: 0.1840 - mse: 7.2619 - val_loss: 0.1325 - val_mse: 0.1276\n",
      "Epoch 70/1000\n",
      "1294/1294 [==============================] - 7s 6ms/step - loss: 0.1840 - mse: 7.2619 - val_loss: 0.1325 - val_mse: 0.1275\n",
      "Epoch 71/1000\n",
      "1294/1294 [==============================] - 7s 6ms/step - loss: 0.1840 - mse: 7.2618 - val_loss: 0.1325 - val_mse: 0.1276\n",
      "Epoch 72/1000\n",
      "1294/1294 [==============================] - 7s 6ms/step - loss: 0.1840 - mse: 7.2618 - val_loss: 0.1325 - val_mse: 0.1276\n",
      "Epoch 73/1000\n",
      "1294/1294 [==============================] - 7s 6ms/step - loss: 0.1840 - mse: 7.2617 - val_loss: 0.1325 - val_mse: 0.1276\n",
      "Epoch 74/1000\n",
      "1294/1294 [==============================] - 8s 6ms/step - loss: 0.1840 - mse: 7.2617 - val_loss: 0.1325 - val_mse: 0.1276\n",
      "Epoch 75/1000\n",
      "1294/1294 [==============================] - 7s 6ms/step - loss: 0.1840 - mse: 7.2616 - val_loss: 0.1325 - val_mse: 0.1276\n",
      "Epoch 76/1000\n",
      "1294/1294 [==============================] - 8s 6ms/step - loss: 0.1840 - mse: 7.2616 - val_loss: 0.1325 - val_mse: 0.1276\n",
      "Epoch 77/1000\n",
      "1294/1294 [==============================] - 7s 6ms/step - loss: 0.1840 - mse: 7.2615 - val_loss: 0.1325 - val_mse: 0.1277\n",
      "Epoch 78/1000\n",
      "1294/1294 [==============================] - 7s 6ms/step - loss: 0.1840 - mse: 7.2615 - val_loss: 0.1325 - val_mse: 0.1276\n",
      "Epoch 79/1000\n",
      "1294/1294 [==============================] - 7s 6ms/step - loss: 0.1840 - mse: 7.2614 - val_loss: 0.1325 - val_mse: 0.1276\n",
      "Epoch 80/1000\n",
      "1294/1294 [==============================] - 7s 6ms/step - loss: 0.1840 - mse: 7.2613 - val_loss: 0.1325 - val_mse: 0.1276\n",
      "Epoch 81/1000\n",
      "1294/1294 [==============================] - 8s 6ms/step - loss: 0.1840 - mse: 7.2613 - val_loss: 0.1325 - val_mse: 0.1277\n",
      "Epoch 82/1000\n",
      "1294/1294 [==============================] - 8s 6ms/step - loss: 0.1840 - mse: 7.2612 - val_loss: 0.1325 - val_mse: 0.1276\n",
      "Epoch 83/1000\n",
      "1294/1294 [==============================] - 7s 6ms/step - loss: 0.1840 - mse: 7.2612 - val_loss: 0.1325 - val_mse: 0.1277\n",
      "Epoch 84/1000\n",
      "1294/1294 [==============================] - 7s 6ms/step - loss: 0.1840 - mse: 7.2611 - val_loss: 0.1325 - val_mse: 0.1276\n",
      "Epoch 85/1000\n",
      "1294/1294 [==============================] - 7s 6ms/step - loss: 0.1840 - mse: 7.2610 - val_loss: 0.1325 - val_mse: 0.1276\n",
      "Epoch 86/1000\n",
      "1294/1294 [==============================] - 7s 6ms/step - loss: 0.1840 - mse: 7.2609 - val_loss: 0.1325 - val_mse: 0.1277\n",
      "Epoch 87/1000\n",
      "1294/1294 [==============================] - 8s 6ms/step - loss: 0.1840 - mse: 7.2609 - val_loss: 0.1325 - val_mse: 0.1277\n",
      "Epoch 88/1000\n",
      "1294/1294 [==============================] - 7s 5ms/step - loss: 0.1840 - mse: 7.2608 - val_loss: 0.1325 - val_mse: 0.1277\n",
      "Epoch 89/1000\n",
      "1294/1294 [==============================] - 7s 6ms/step - loss: 0.1840 - mse: 7.2608 - val_loss: 0.1325 - val_mse: 0.1276\n",
      "Epoch 90/1000\n",
      "1294/1294 [==============================] - 7s 5ms/step - loss: 0.1839 - mse: 7.2607 - val_loss: 0.1325 - val_mse: 0.1277\n",
      "Epoch 91/1000\n",
      "1294/1294 [==============================] - 7s 6ms/step - loss: 0.1839 - mse: 7.2607 - val_loss: 0.1325 - val_mse: 0.1277\n",
      "Epoch 92/1000\n",
      "1294/1294 [==============================] - 7s 5ms/step - loss: 0.1839 - mse: 7.2606 - val_loss: 0.1325 - val_mse: 0.1277\n",
      "Epoch 93/1000\n",
      "1294/1294 [==============================] - 7s 6ms/step - loss: 0.1839 - mse: 7.2605 - val_loss: 0.1325 - val_mse: 0.1277\n",
      "Epoch 94/1000\n",
      "1294/1294 [==============================] - 7s 6ms/step - loss: 0.1839 - mse: 7.2605 - val_loss: 0.1325 - val_mse: 0.1277\n",
      "Epoch 95/1000\n",
      "1294/1294 [==============================] - 7s 6ms/step - loss: 0.1839 - mse: 7.2604 - val_loss: 0.1325 - val_mse: 0.1277\n",
      "Epoch 96/1000\n",
      "1294/1294 [==============================] - 7s 6ms/step - loss: 0.1839 - mse: 7.2603 - val_loss: 0.1325 - val_mse: 0.1277\n",
      "Epoch 97/1000\n",
      "1294/1294 [==============================] - 7s 5ms/step - loss: 0.1839 - mse: 7.2603 - val_loss: 0.1325 - val_mse: 0.1278\n",
      "Epoch 98/1000\n",
      "1294/1294 [==============================] - 7s 6ms/step - loss: 0.1839 - mse: 7.2602 - val_loss: 0.1325 - val_mse: 0.1277\n",
      "Epoch 99/1000\n",
      "1294/1294 [==============================] - 7s 6ms/step - loss: 0.1839 - mse: 7.2602 - val_loss: 0.1325 - val_mse: 0.1277\n",
      "Epoch 100/1000\n",
      "1294/1294 [==============================] - 8s 6ms/step - loss: 0.1839 - mse: 7.2601 - val_loss: 0.1325 - val_mse: 0.1277\n",
      "Epoch 101/1000\n",
      "1294/1294 [==============================] - 8s 6ms/step - loss: 0.1839 - mse: 7.2601 - val_loss: 0.1325 - val_mse: 0.1277\n",
      "Epoch 102/1000\n",
      "1294/1294 [==============================] - 7s 5ms/step - loss: 0.1839 - mse: 7.2600 - val_loss: 0.1325 - val_mse: 0.1277\n",
      "Epoch 103/1000\n",
      "1294/1294 [==============================] - 7s 5ms/step - loss: 0.1839 - mse: 7.2600 - val_loss: 0.1325 - val_mse: 0.1278\n",
      "Epoch 104/1000\n",
      "1294/1294 [==============================] - 8s 6ms/step - loss: 0.1839 - mse: 7.2599 - val_loss: 0.1325 - val_mse: 0.1277\n",
      "Epoch 105/1000\n",
      "1294/1294 [==============================] - 7s 6ms/step - loss: 0.1839 - mse: 7.2598 - val_loss: 0.1325 - val_mse: 0.1277\n",
      "Epoch 106/1000\n",
      "1294/1294 [==============================] - 7s 6ms/step - loss: 0.1839 - mse: 7.2598 - val_loss: 0.1325 - val_mse: 0.1277\n",
      "Epoch 107/1000\n",
      "1294/1294 [==============================] - 7s 6ms/step - loss: 0.1839 - mse: 7.2597 - val_loss: 0.1325 - val_mse: 0.1277\n",
      "Epoch 108/1000\n",
      "1294/1294 [==============================] - 7s 6ms/step - loss: 0.1839 - mse: 7.2596 - val_loss: 0.1325 - val_mse: 0.1278\n",
      "Epoch 109/1000\n",
      "1294/1294 [==============================] - 7s 6ms/step - loss: 0.1839 - mse: 7.2596 - val_loss: 0.1325 - val_mse: 0.1277\n",
      "Epoch 110/1000\n",
      "1294/1294 [==============================] - 7s 6ms/step - loss: 0.1839 - mse: 7.2595 - val_loss: 0.1325 - val_mse: 0.1278\n",
      "Epoch 111/1000\n",
      "1294/1294 [==============================] - 7s 6ms/step - loss: 0.1839 - mse: 7.2595 - val_loss: 0.1325 - val_mse: 0.1278\n",
      "Epoch 112/1000\n",
      "1294/1294 [==============================] - 8s 6ms/step - loss: 0.1839 - mse: 7.2594 - val_loss: 0.1325 - val_mse: 0.1278\n",
      "Epoch 113/1000\n",
      "1294/1294 [==============================] - 7s 6ms/step - loss: 0.1839 - mse: 7.2594 - val_loss: 0.1325 - val_mse: 0.1278\n",
      "Epoch 114/1000\n",
      "1294/1294 [==============================] - 8s 6ms/step - loss: 0.1839 - mse: 7.2593 - val_loss: 0.1325 - val_mse: 0.1278\n",
      "Epoch 115/1000\n",
      "1294/1294 [==============================] - 7s 6ms/step - loss: 0.1839 - mse: 7.2593 - val_loss: 0.1324 - val_mse: 0.1277\n",
      "Epoch 116/1000\n",
      "1294/1294 [==============================] - 7s 6ms/step - loss: 0.1839 - mse: 7.2592 - val_loss: 0.1325 - val_mse: 0.1278\n",
      "Epoch 117/1000\n",
      "1294/1294 [==============================] - 8s 6ms/step - loss: 0.1839 - mse: 7.2591 - val_loss: 0.1325 - val_mse: 0.1278\n",
      "Epoch 118/1000\n",
      "1294/1294 [==============================] - 7s 6ms/step - loss: 0.1839 - mse: 7.2591 - val_loss: 0.1324 - val_mse: 0.1278\n",
      "Epoch 119/1000\n",
      "1294/1294 [==============================] - 8s 6ms/step - loss: 0.1839 - mse: 7.2590 - val_loss: 0.1325 - val_mse: 0.1278\n",
      "Epoch 120/1000\n",
      "1294/1294 [==============================] - 7s 6ms/step - loss: 0.1839 - mse: 7.2590 - val_loss: 0.1325 - val_mse: 0.1279\n",
      "Epoch 121/1000\n",
      "1294/1294 [==============================] - 7s 5ms/step - loss: 0.1839 - mse: 7.2589 - val_loss: 0.1324 - val_mse: 0.1278\n",
      "Epoch 122/1000\n",
      "1294/1294 [==============================] - 7s 6ms/step - loss: 0.1839 - mse: 7.2589 - val_loss: 0.1325 - val_mse: 0.1278\n",
      "Epoch 123/1000\n",
      "1294/1294 [==============================] - 8s 6ms/step - loss: 0.1839 - mse: 7.2588 - val_loss: 0.1325 - val_mse: 0.1278\n",
      "Epoch 124/1000\n",
      "1294/1294 [==============================] - 8s 6ms/step - loss: 0.1839 - mse: 7.2588 - val_loss: 0.1324 - val_mse: 0.1278\n",
      "Epoch 125/1000\n",
      "1294/1294 [==============================] - 7s 6ms/step - loss: 0.1839 - mse: 7.2587 - val_loss: 0.1325 - val_mse: 0.1278\n",
      "Epoch 126/1000\n",
      "1294/1294 [==============================] - 8s 6ms/step - loss: 0.1839 - mse: 7.2586 - val_loss: 0.1325 - val_mse: 0.1279\n",
      "Epoch 127/1000\n",
      "1294/1294 [==============================] - 7s 6ms/step - loss: 0.1839 - mse: 7.2586 - val_loss: 0.1324 - val_mse: 0.1278\n",
      "Epoch 128/1000\n",
      "1294/1294 [==============================] - 7s 6ms/step - loss: 0.1839 - mse: 7.2585 - val_loss: 0.1325 - val_mse: 0.1278\n",
      "Epoch 129/1000\n",
      "1294/1294 [==============================] - 7s 6ms/step - loss: 0.1839 - mse: 7.2585 - val_loss: 0.1325 - val_mse: 0.1279\n",
      "Epoch 130/1000\n",
      "1294/1294 [==============================] - 8s 6ms/step - loss: 0.1838 - mse: 7.2584 - val_loss: 0.1325 - val_mse: 0.1279\n",
      "Epoch 131/1000\n",
      "1294/1294 [==============================] - 7s 6ms/step - loss: 0.1838 - mse: 7.2584 - val_loss: 0.1325 - val_mse: 0.1279\n",
      "Epoch 132/1000\n",
      "1294/1294 [==============================] - 8s 6ms/step - loss: 0.1838 - mse: 7.2583 - val_loss: 0.1324 - val_mse: 0.1278\n",
      "Epoch 133/1000\n",
      "1294/1294 [==============================] - 7s 6ms/step - loss: 0.1838 - mse: 7.2582 - val_loss: 0.1325 - val_mse: 0.1279\n",
      "Epoch 134/1000\n",
      "1294/1294 [==============================] - 7s 6ms/step - loss: 0.1838 - mse: 7.2582 - val_loss: 0.1325 - val_mse: 0.1279\n",
      "Epoch 135/1000\n",
      "1294/1294 [==============================] - 7s 6ms/step - loss: 0.1838 - mse: 7.2581 - val_loss: 0.1325 - val_mse: 0.1279\n",
      "Epoch 136/1000\n",
      "1294/1294 [==============================] - 8s 6ms/step - loss: 0.1838 - mse: 7.2581 - val_loss: 0.1325 - val_mse: 0.1279\n",
      "Epoch 137/1000\n",
      "1294/1294 [==============================] - 7s 6ms/step - loss: 0.1838 - mse: 7.2580 - val_loss: 0.1325 - val_mse: 0.1279\n",
      "Epoch 138/1000\n",
      "1294/1294 [==============================] - 8s 6ms/step - loss: 0.1838 - mse: 7.2580 - val_loss: 0.1324 - val_mse: 0.1278\n",
      "Epoch 139/1000\n",
      "1294/1294 [==============================] - 7s 6ms/step - loss: 0.1838 - mse: 7.2579 - val_loss: 0.1325 - val_mse: 0.1279\n",
      "Epoch 140/1000\n",
      "1294/1294 [==============================] - 7s 6ms/step - loss: 0.1838 - mse: 7.2578 - val_loss: 0.1325 - val_mse: 0.1279\n",
      "Epoch 141/1000\n",
      "1294/1294 [==============================] - 7s 6ms/step - loss: 0.1838 - mse: 7.2578 - val_loss: 0.1325 - val_mse: 0.1279\n",
      "Epoch 142/1000\n",
      "1294/1294 [==============================] - 7s 6ms/step - loss: 0.1838 - mse: 7.2578 - val_loss: 0.1325 - val_mse: 0.1279\n",
      "Epoch 143/1000\n",
      "1294/1294 [==============================] - 7s 6ms/step - loss: 0.1838 - mse: 7.2577 - val_loss: 0.1325 - val_mse: 0.1279\n",
      "Epoch 144/1000\n",
      "1294/1294 [==============================] - 7s 6ms/step - loss: 0.1838 - mse: 7.2576 - val_loss: 0.1325 - val_mse: 0.1279\n",
      "Epoch 145/1000\n",
      "1294/1294 [==============================] - 7s 6ms/step - loss: 0.1838 - mse: 7.2576 - val_loss: 0.1325 - val_mse: 0.1279\n",
      "Epoch 146/1000\n",
      "1294/1294 [==============================] - 7s 6ms/step - loss: 0.1838 - mse: 7.2575 - val_loss: 0.1325 - val_mse: 0.1279\n",
      "Epoch 147/1000\n",
      "1294/1294 [==============================] - 7s 6ms/step - loss: 0.1838 - mse: 7.2574 - val_loss: 0.1325 - val_mse: 0.1279\n",
      "Epoch 148/1000\n",
      "1294/1294 [==============================] - 7s 6ms/step - loss: 0.1838 - mse: 7.2574 - val_loss: 0.1325 - val_mse: 0.1279\n",
      "Epoch 149/1000\n",
      "1294/1294 [==============================] - 8s 6ms/step - loss: 0.1838 - mse: 7.2573 - val_loss: 0.1325 - val_mse: 0.1279\n",
      "Epoch 150/1000\n",
      "1294/1294 [==============================] - 7s 6ms/step - loss: 0.1838 - mse: 7.2573 - val_loss: 0.1324 - val_mse: 0.1279\n",
      "Epoch 151/1000\n",
      "1294/1294 [==============================] - 7s 6ms/step - loss: 0.1838 - mse: 7.2572 - val_loss: 0.1325 - val_mse: 0.1279\n",
      "Epoch 152/1000\n",
      "1294/1294 [==============================] - 7s 6ms/step - loss: 0.1838 - mse: 7.2571 - val_loss: 0.1325 - val_mse: 0.1280\n",
      "Epoch 153/1000\n",
      "1294/1294 [==============================] - 8s 6ms/step - loss: 0.1838 - mse: 7.2571 - val_loss: 0.1324 - val_mse: 0.1279\n",
      "Epoch 154/1000\n",
      "1294/1294 [==============================] - 7s 6ms/step - loss: 0.1838 - mse: 7.2570 - val_loss: 0.1325 - val_mse: 0.1280\n",
      "Epoch 155/1000\n",
      "1294/1294 [==============================] - 8s 6ms/step - loss: 0.1838 - mse: 7.2570 - val_loss: 0.1325 - val_mse: 0.1280\n",
      "Epoch 156/1000\n",
      "1294/1294 [==============================] - 7s 6ms/step - loss: 0.1838 - mse: 7.2569 - val_loss: 0.1325 - val_mse: 0.1280\n",
      "Epoch 157/1000\n",
      "1294/1294 [==============================] - 8s 6ms/step - loss: 0.1838 - mse: 7.2569 - val_loss: 0.1325 - val_mse: 0.1280\n",
      "Epoch 158/1000\n",
      "1294/1294 [==============================] - 8s 6ms/step - loss: 0.1838 - mse: 7.2568 - val_loss: 0.1324 - val_mse: 0.1279\n",
      "Epoch 159/1000\n",
      "1294/1294 [==============================] - 7s 6ms/step - loss: 0.1838 - mse: 7.2567 - val_loss: 0.1325 - val_mse: 0.1280\n",
      "Epoch 160/1000\n",
      "1294/1294 [==============================] - 8s 6ms/step - loss: 0.1838 - mse: 7.2567 - val_loss: 0.1325 - val_mse: 0.1280\n",
      "Epoch 161/1000\n",
      "1294/1294 [==============================] - 8s 6ms/step - loss: 0.1838 - mse: 7.2566 - val_loss: 0.1325 - val_mse: 0.1280\n",
      "Epoch 162/1000\n",
      "1294/1294 [==============================] - 8s 6ms/step - loss: 0.1838 - mse: 7.2566 - val_loss: 0.1324 - val_mse: 0.1280\n",
      "Epoch 163/1000\n",
      "1294/1294 [==============================] - 7s 6ms/step - loss: 0.1838 - mse: 7.2565 - val_loss: 0.1325 - val_mse: 0.1280\n",
      "Epoch 164/1000\n",
      "1294/1294 [==============================] - 8s 6ms/step - loss: 0.1838 - mse: 7.2565 - val_loss: 0.1325 - val_mse: 0.1280\n",
      "Epoch 165/1000\n",
      "1294/1294 [==============================] - 8s 6ms/step - loss: 0.1838 - mse: 7.2564 - val_loss: 0.1325 - val_mse: 0.1280\n",
      "Epoch 166/1000\n",
      "1294/1294 [==============================] - 8s 6ms/step - loss: 0.1838 - mse: 7.2564 - val_loss: 0.1325 - val_mse: 0.1280\n",
      "Epoch 167/1000\n",
      "1294/1294 [==============================] - 7s 6ms/step - loss: 0.1838 - mse: 7.2563 - val_loss: 0.1325 - val_mse: 0.1280\n",
      "Epoch 168/1000\n",
      "1294/1294 [==============================] - 7s 6ms/step - loss: 0.1838 - mse: 7.2563 - val_loss: 0.1325 - val_mse: 0.1280\n",
      "Epoch 169/1000\n",
      "1294/1294 [==============================] - 7s 6ms/step - loss: 0.1838 - mse: 7.2562 - val_loss: 0.1325 - val_mse: 0.1280\n",
      "Epoch 170/1000\n",
      "1294/1294 [==============================] - 7s 6ms/step - loss: 0.1838 - mse: 7.2561 - val_loss: 0.1325 - val_mse: 0.1280\n",
      "Epoch 171/1000\n",
      "1294/1294 [==============================] - 8s 6ms/step - loss: 0.1838 - mse: 7.2561 - val_loss: 0.1325 - val_mse: 0.1280\n",
      "Epoch 172/1000\n",
      "1294/1294 [==============================] - 7s 6ms/step - loss: 0.1838 - mse: 7.2560 - val_loss: 0.1325 - val_mse: 0.1280\n",
      "Epoch 173/1000\n",
      "1294/1294 [==============================] - 7s 6ms/step - loss: 0.1838 - mse: 7.2560 - val_loss: 0.1325 - val_mse: 0.1280\n",
      "Epoch 174/1000\n",
      "1294/1294 [==============================] - 7s 6ms/step - loss: 0.1838 - mse: 7.2559 - val_loss: 0.1325 - val_mse: 0.1280\n",
      "Epoch 175/1000\n",
      "1294/1294 [==============================] - 7s 6ms/step - loss: 0.1838 - mse: 7.2558 - val_loss: 0.1325 - val_mse: 0.1281\n",
      "Epoch 176/1000\n",
      "1294/1294 [==============================] - 8s 6ms/step - loss: 0.1838 - mse: 7.2558 - val_loss: 0.1325 - val_mse: 0.1280\n",
      "Epoch 177/1000\n",
      "1294/1294 [==============================] - 7s 6ms/step - loss: 0.1838 - mse: 7.2557 - val_loss: 0.1325 - val_mse: 0.1280\n",
      "Epoch 178/1000\n",
      "1294/1294 [==============================] - 7s 6ms/step - loss: 0.1838 - mse: 7.2557 - val_loss: 0.1325 - val_mse: 0.1280\n",
      "Epoch 179/1000\n",
      "1294/1294 [==============================] - 7s 6ms/step - loss: 0.1838 - mse: 7.2556 - val_loss: 0.1325 - val_mse: 0.1280\n",
      "Epoch 180/1000\n",
      "1294/1294 [==============================] - 7s 6ms/step - loss: 0.1838 - mse: 7.2556 - val_loss: 0.1325 - val_mse: 0.1280\n",
      "Epoch 181/1000\n",
      "1294/1294 [==============================] - 7s 6ms/step - loss: 0.1838 - mse: 7.2555 - val_loss: 0.1325 - val_mse: 0.1280\n",
      "Epoch 182/1000\n",
      "1294/1294 [==============================] - 8s 6ms/step - loss: 0.1838 - mse: 7.2554 - val_loss: 0.1325 - val_mse: 0.1280\n",
      "Epoch 183/1000\n",
      "1294/1294 [==============================] - 7s 6ms/step - loss: 0.1838 - mse: 7.2554 - val_loss: 0.1325 - val_mse: 0.1280\n",
      "Epoch 184/1000\n",
      "1294/1294 [==============================] - 7s 6ms/step - loss: 0.1837 - mse: 7.2554 - val_loss: 0.1325 - val_mse: 0.1280\n",
      "Epoch 185/1000\n",
      "1294/1294 [==============================] - 7s 6ms/step - loss: 0.1838 - mse: 7.2553 - val_loss: 0.1325 - val_mse: 0.1280\n",
      "Epoch 186/1000\n",
      "1294/1294 [==============================] - 7s 6ms/step - loss: 0.1837 - mse: 7.2552 - val_loss: 0.1325 - val_mse: 0.1280\n",
      "Epoch 187/1000\n",
      "1294/1294 [==============================] - 8s 6ms/step - loss: 0.1837 - mse: 7.2552 - val_loss: 0.1325 - val_mse: 0.1280\n",
      "Epoch 188/1000\n",
      "1294/1294 [==============================] - 8s 6ms/step - loss: 0.1837 - mse: 7.2551 - val_loss: 0.1325 - val_mse: 0.1280\n",
      "Epoch 189/1000\n",
      "1294/1294 [==============================] - 7s 6ms/step - loss: 0.1838 - mse: 7.2551 - val_loss: 0.1325 - val_mse: 0.1280\n",
      "Epoch 190/1000\n",
      "1294/1294 [==============================] - 7s 6ms/step - loss: 0.1837 - mse: 7.2550 - val_loss: 0.1325 - val_mse: 0.1280\n",
      "Epoch 191/1000\n",
      "1294/1294 [==============================] - 7s 6ms/step - loss: 0.1837 - mse: 7.2549 - val_loss: 0.1325 - val_mse: 0.1280\n",
      "Epoch 192/1000\n",
      "1294/1294 [==============================] - 8s 6ms/step - loss: 0.1837 - mse: 7.2549 - val_loss: 0.1325 - val_mse: 0.1280\n",
      "Epoch 193/1000\n",
      "1294/1294 [==============================] - 8s 6ms/step - loss: 0.1837 - mse: 7.2549 - val_loss: 0.1325 - val_mse: 0.1280\n",
      "Epoch 194/1000\n",
      "1294/1294 [==============================] - 7s 6ms/step - loss: 0.1837 - mse: 7.2548 - val_loss: 0.1325 - val_mse: 0.1280\n",
      "Epoch 195/1000\n",
      "1294/1294 [==============================] - 8s 6ms/step - loss: 0.1837 - mse: 7.2548 - val_loss: 0.1325 - val_mse: 0.1281\n",
      "Epoch 196/1000\n",
      "1294/1294 [==============================] - 7s 6ms/step - loss: 0.1837 - mse: 7.2547 - val_loss: 0.1325 - val_mse: 0.1281\n",
      "Epoch 197/1000\n",
      "1294/1294 [==============================] - 7s 6ms/step - loss: 0.1837 - mse: 7.2547 - val_loss: 0.1325 - val_mse: 0.1280\n",
      "Epoch 198/1000\n",
      "1294/1294 [==============================] - 8s 6ms/step - loss: 0.1837 - mse: 7.2546 - val_loss: 0.1325 - val_mse: 0.1280\n",
      "Epoch 199/1000\n",
      "1294/1294 [==============================] - 8s 6ms/step - loss: 0.1837 - mse: 7.2545 - val_loss: 0.1325 - val_mse: 0.1280\n",
      "Epoch 200/1000\n",
      "1294/1294 [==============================] - 7s 6ms/step - loss: 0.1837 - mse: 7.2545 - val_loss: 0.1325 - val_mse: 0.1281\n",
      "Epoch 201/1000\n",
      "1294/1294 [==============================] - 8s 6ms/step - loss: 0.1837 - mse: 7.2545 - val_loss: 0.1325 - val_mse: 0.1280\n",
      "Epoch 202/1000\n",
      "1294/1294 [==============================] - 7s 6ms/step - loss: 0.1837 - mse: 7.2544 - val_loss: 0.1325 - val_mse: 0.1281\n",
      "Epoch 203/1000\n",
      "1294/1294 [==============================] - 8s 6ms/step - loss: 0.1837 - mse: 7.2543 - val_loss: 0.1325 - val_mse: 0.1280\n",
      "Epoch 204/1000\n",
      "1294/1294 [==============================] - 8s 6ms/step - loss: 0.1837 - mse: 7.2543 - val_loss: 0.1325 - val_mse: 0.1280\n",
      "Epoch 205/1000\n",
      "1294/1294 [==============================] - 7s 6ms/step - loss: 0.1837 - mse: 7.2542 - val_loss: 0.1325 - val_mse: 0.1281\n",
      "Epoch 206/1000\n",
      "1294/1294 [==============================] - 8s 6ms/step - loss: 0.1837 - mse: 7.2542 - val_loss: 0.1325 - val_mse: 0.1281\n",
      "Epoch 207/1000\n",
      "1294/1294 [==============================] - 8s 6ms/step - loss: 0.1837 - mse: 7.2541 - val_loss: 0.1325 - val_mse: 0.1281\n",
      "Epoch 208/1000\n",
      "1294/1294 [==============================] - 7s 6ms/step - loss: 0.1837 - mse: 7.2541 - val_loss: 0.1325 - val_mse: 0.1281\n"
     ],
     "name": "stdout"
    },
    {
     "output_type": "execute_result",
     "data": {
      "text/plain": [
       "<tensorflow.python.keras.callbacks.History at 0x7efc69cf3e48>"
      ]
     },
     "metadata": {
      "tags": []
     },
     "execution_count": 62
    }
   ]
  },
  {
   "cell_type": "code",
   "metadata": {
    "pycharm": {
     "name": "#%%\n"
    },
    "id": "sY9EgNpOSp8s"
   },
   "source": [
    "c = 'Racine'\n",
    "s = 'WI'\n",
    "r = df[(df['state']==s)&(df['county']==c)]"
   ],
   "execution_count": 22,
   "outputs": []
  },
  {
   "cell_type": "code",
   "metadata": {
    "pycharm": {
     "name": "#%%\n"
    },
    "id": "lCSQPQbsSp87"
   },
   "source": [
    "model4 = tf.keras.models.load_model('model.h5')\n",
    "row = r.drop(columns=['state','county'])\n",
    "row = row.to_numpy()\n",
    "dataset = getDataset(row,8,False)"
   ],
   "execution_count": 23,
   "outputs": []
  },
  {
   "cell_type": "code",
   "metadata": {
    "pycharm": {
     "name": "#%%\n"
    },
    "id": "IKZQWaW-Sp9N",
    "outputId": "ffca18ec-3f74-47d1-c4d1-00bf49f8a545",
    "colab": {
     "base_uri": "https://localhost:8080/",
     "height": 68
    }
   },
   "source": [
    "results = model4.predict(dataset)\n",
    "results"
   ],
   "execution_count": 24,
   "outputs": [
    {
     "data": {
      "text/plain": "array([[ 1.9430351],\n       [ 1.9035642],\n       [20.146744 ]], dtype=float32)"
     },
     "execution_count": 24,
     "metadata": {},
     "output_type": "execute_result"
    }
   ]
  },
  {
   "cell_type": "code",
   "metadata": {
    "pycharm": {
     "name": "#%%\n"
    },
    "id": "J-2cK6uCSp9k",
    "outputId": "3974847e-7432-41ac-c48b-54ffccfe7eaa",
    "colab": {
     "base_uri": "https://localhost:8080/",
     "height": 295
    }
   },
   "source": [
    "dem = np.array(r.values.tolist()[0][2::3])\n",
    "gop = np.array(r.values.tolist()[0][3::3])\n",
    "other = np.array(r.values.tolist()[0][4::3])\n",
    "plotCounty(s,c,dem,gop,other,results)"
   ],
   "execution_count": 25,
   "outputs": [
    {
     "data": {
      "text/plain": "<Figure size 432x288 with 1 Axes>",
      "image/png": "[encoded data removed]"
     },
     "metadata": {
      "needs_background": "light"
     },
     "output_type": "display_data"
    }
   ]
  }
 ]
}