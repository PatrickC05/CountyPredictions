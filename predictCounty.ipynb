{
 "nbformat": 4,
 "nbformat_minor": 0,
 "metadata": {
  "kernelspec": {
   "display_name": "Python 3",
   "language": "python",
   "name": "python3"
  },
  "language_info": {
   "codemirror_mode": {
    "name": "ipython",
    "version": 3
   },
   "file_extension": ".py",
   "mimetype": "text/x-python",
   "name": "python",
   "nbconvert_exporter": "python",
   "pygments_lexer": "ipython3",
   "version": "3.7.3"
  },
  "colab": {
   "name": "predictCounty.ipynb",
   "provenance": []
  },
  "accelerator": "GPU"
 },
 "cells": [
  {
   "cell_type": "code",
   "metadata": {
    "id": "CsluoFv7Sp2j"
   },
   "source": [
    "import tensorflow as tf\n",
    "import numpy as np\n",
    "import pandas as pd\n",
    "import matplotlib.pyplot as plt"
   ],
   "execution_count": 1,
   "outputs": []
  },
  {
   "cell_type": "code",
   "metadata": {
    "pycharm": {
     "name": "#%%\n"
    },
    "id": "tlcuuCFhSp3G"
   },
   "source": [
    "years = range(2000,2020,4)\n",
    "df = pd.read_csv('counties.csv')"
   ],
   "execution_count": 2,
   "outputs": []
  },
  {
   "cell_type": "code",
   "metadata": {
    "pycharm": {
     "name": "#%%\n"
    },
    "id": "PrR6Do9iSp3f",
    "outputId": "998e436d-e2f6-4bdf-d2e5-b0168ab565f9",
    "colab": {
     "base_uri": "https://localhost:8080/",
     "height": 317
    }
   },
   "source": [
    "data = df.drop(columns=['state', 'county'])\n",
    "data = data.dropna(axis=0,how='any')\n",
    "data.describe()"
   ],
   "execution_count": 3,
   "outputs": [
    {
     "output_type": "execute_result",
     "data": {
      "text/html": [
       "<div>\n",
       "<style scoped>\n",
       "    .dataframe tbody tr th:only-of-type {\n",
       "        vertical-align: middle;\n",
       "    }\n",
       "\n",
       "    .dataframe tbody tr th {\n",
       "        vertical-align: top;\n",
       "    }\n",
       "\n",
       "    .dataframe thead th {\n",
       "        text-align: right;\n",
       "    }\n",
       "</style>\n",
       "<table border=\"1\" class=\"dataframe\">\n",
       "  <thead>\n",
       "    <tr style=\"text-align: right;\">\n",
       "      <th></th>\n",
       "      <th>2000D</th>\n",
       "      <th>2000R</th>\n",
       "      <th>2000O</th>\n",
       "      <th>2004D</th>\n",
       "      <th>2004R</th>\n",
       "      <th>2004O</th>\n",
       "      <th>2008D</th>\n",
       "      <th>2008R</th>\n",
       "      <th>2008O</th>\n",
       "      <th>2012D</th>\n",
       "      <th>2012R</th>\n",
       "      <th>2012O</th>\n",
       "      <th>2016D</th>\n",
       "      <th>2016R</th>\n",
       "      <th>2016O</th>\n",
       "    </tr>\n",
       "  </thead>\n",
       "  <tbody>\n",
       "    <tr>\n",
       "      <th>count</th>\n",
       "      <td>2.875000e+03</td>\n",
       "      <td>2875.000000</td>\n",
       "      <td>2875.000000</td>\n",
       "      <td>2.875000e+03</td>\n",
       "      <td>2.875000e+03</td>\n",
       "      <td>2875.000000</td>\n",
       "      <td>2.875000e+03</td>\n",
       "      <td>2875.000000</td>\n",
       "      <td>2875.000000</td>\n",
       "      <td>2.875000e+03</td>\n",
       "      <td>2875.000000</td>\n",
       "      <td>2875.000000</td>\n",
       "      <td>2.875000e+03</td>\n",
       "      <td>2875.000000</td>\n",
       "      <td>2875.000000</td>\n",
       "    </tr>\n",
       "    <tr>\n",
       "      <th>mean</th>\n",
       "      <td>1.699424e+04</td>\n",
       "      <td>16533.856000</td>\n",
       "      <td>1352.073391</td>\n",
       "      <td>1.956915e+04</td>\n",
       "      <td>2.028555e+04</td>\n",
       "      <td>508.671652</td>\n",
       "      <td>2.298134e+04</td>\n",
       "      <td>19539.632696</td>\n",
       "      <td>610.991304</td>\n",
       "      <td>2.171365e+04</td>\n",
       "      <td>19761.090783</td>\n",
       "      <td>886.516522</td>\n",
       "      <td>2.175607e+04</td>\n",
       "      <td>20524.178783</td>\n",
       "      <td>2543.772522</td>\n",
       "    </tr>\n",
       "    <tr>\n",
       "      <th>std</th>\n",
       "      <td>5.942532e+04</td>\n",
       "      <td>39923.542134</td>\n",
       "      <td>4232.141433</td>\n",
       "      <td>6.769202e+04</td>\n",
       "      <td>4.869764e+04</td>\n",
       "      <td>1976.171276</td>\n",
       "      <td>7.944593e+04</td>\n",
       "      <td>45955.629730</td>\n",
       "      <td>1913.652362</td>\n",
       "      <td>7.628626e+04</td>\n",
       "      <td>45649.528293</td>\n",
       "      <td>3056.034805</td>\n",
       "      <td>8.298175e+04</td>\n",
       "      <td>44262.493478</td>\n",
       "      <td>7726.198627</td>\n",
       "    </tr>\n",
       "    <tr>\n",
       "      <th>min</th>\n",
       "      <td>1.400000e+01</td>\n",
       "      <td>106.000000</td>\n",
       "      <td>3.000000</td>\n",
       "      <td>1.200000e+01</td>\n",
       "      <td>6.500000e+01</td>\n",
       "      <td>0.000000</td>\n",
       "      <td>8.000000e+00</td>\n",
       "      <td>67.000000</td>\n",
       "      <td>0.000000</td>\n",
       "      <td>5.000000e+00</td>\n",
       "      <td>54.000000</td>\n",
       "      <td>1.000000</td>\n",
       "      <td>4.000000e+00</td>\n",
       "      <td>58.000000</td>\n",
       "      <td>3.000000</td>\n",
       "    </tr>\n",
       "    <tr>\n",
       "      <th>25%</th>\n",
       "      <td>1.751500e+03</td>\n",
       "      <td>2689.000000</td>\n",
       "      <td>109.000000</td>\n",
       "      <td>1.882500e+03</td>\n",
       "      <td>3.124500e+03</td>\n",
       "      <td>43.000000</td>\n",
       "      <td>1.930500e+03</td>\n",
       "      <td>2956.000000</td>\n",
       "      <td>78.500000</td>\n",
       "      <td>1.662500e+03</td>\n",
       "      <td>3021.500000</td>\n",
       "      <td>84.000000</td>\n",
       "      <td>1.240000e+03</td>\n",
       "      <td>3346.000000</td>\n",
       "      <td>195.000000</td>\n",
       "    </tr>\n",
       "    <tr>\n",
       "      <th>50%</th>\n",
       "      <td>3.830000e+03</td>\n",
       "      <td>5363.000000</td>\n",
       "      <td>278.000000</td>\n",
       "      <td>4.177000e+03</td>\n",
       "      <td>6.522000e+03</td>\n",
       "      <td>98.000000</td>\n",
       "      <td>4.493000e+03</td>\n",
       "      <td>6297.000000</td>\n",
       "      <td>182.000000</td>\n",
       "      <td>4.014000e+03</td>\n",
       "      <td>6398.000000</td>\n",
       "      <td>195.000000</td>\n",
       "      <td>3.199000e+03</td>\n",
       "      <td>7194.000000</td>\n",
       "      <td>529.000000</td>\n",
       "    </tr>\n",
       "    <tr>\n",
       "      <th>75%</th>\n",
       "      <td>9.580500e+03</td>\n",
       "      <td>13166.000000</td>\n",
       "      <td>886.500000</td>\n",
       "      <td>1.078350e+04</td>\n",
       "      <td>1.646800e+04</td>\n",
       "      <td>302.000000</td>\n",
       "      <td>1.262450e+04</td>\n",
       "      <td>16042.000000</td>\n",
       "      <td>453.500000</td>\n",
       "      <td>1.147700e+04</td>\n",
       "      <td>16391.500000</td>\n",
       "      <td>564.000000</td>\n",
       "      <td>9.940500e+03</td>\n",
       "      <td>17945.500000</td>\n",
       "      <td>1736.500000</td>\n",
       "    </tr>\n",
       "    <tr>\n",
       "      <th>max</th>\n",
       "      <td>1.710505e+06</td>\n",
       "      <td>871930.000000</td>\n",
       "      <td>112719.000000</td>\n",
       "      <td>1.907736e+06</td>\n",
       "      <td>1.076225e+06</td>\n",
       "      <td>39515.000000</td>\n",
       "      <td>2.295853e+06</td>\n",
       "      <td>956425.000000</td>\n",
       "      <td>65970.000000</td>\n",
       "      <td>2.216903e+06</td>\n",
       "      <td>885333.000000</td>\n",
       "      <td>78831.000000</td>\n",
       "      <td>2.464364e+06</td>\n",
       "      <td>769743.000000</td>\n",
       "      <td>200201.000000</td>\n",
       "    </tr>\n",
       "  </tbody>\n",
       "</table>\n",
       "</div>"
      ],
      "text/plain": [
       "              2000D          2000R  ...          2016R          2016O\n",
       "count  2.875000e+03    2875.000000  ...    2875.000000    2875.000000\n",
       "mean   1.699424e+04   16533.856000  ...   20524.178783    2543.772522\n",
       "std    5.942532e+04   39923.542134  ...   44262.493478    7726.198627\n",
       "min    1.400000e+01     106.000000  ...      58.000000       3.000000\n",
       "25%    1.751500e+03    2689.000000  ...    3346.000000     195.000000\n",
       "50%    3.830000e+03    5363.000000  ...    7194.000000     529.000000\n",
       "75%    9.580500e+03   13166.000000  ...   17945.500000    1736.500000\n",
       "max    1.710505e+06  871930.000000  ...  769743.000000  200201.000000\n",
       "\n",
       "[8 rows x 15 columns]"
      ]
     },
     "metadata": {
      "tags": []
     },
     "execution_count": 3
    }
   ]
  },
  {
   "cell_type": "code",
   "metadata": {
    "pycharm": {
     "name": "#%%\n"
    },
    "id": "0-LVluzeSp4P"
   },
   "source": [
    "data = data.to_numpy(dtype=np.int64)"
   ],
   "execution_count": 4,
   "outputs": []
  },
  {
   "cell_type": "code",
   "metadata": {
    "pycharm": {
     "name": "#%%\n"
    },
    "id": "YMNKgPOuSp5D"
   },
   "source": [
    "def plotCounty(state,county,d,r,o,predicted=None):\n",
    "    years = range(2000,2020,4)\n",
    "    plt.figure()\n",
    "    plt.plot(years,d,'b',label='Democrat')\n",
    "    plt.plot(years,r,'r',label='Republican')\n",
    "    plt.plot(years,o,'y',label='Other')\n",
    "    plt.plot(years,d+r+o,'k',label='Total')\n",
    "    if predicted is not None:\n",
    "        new_years = range(2008,2024,4)\n",
    "        plt.plot(new_years,predicted[0]*20000,'c',label='Democrat Model')\n",
    "        plt.plot(new_years,predicted[1]*20000,'m',label='Republican Model')\n",
    "        plt.plot(new_years,predicted[2]*250,'g',label='Other Model')\n",
    "    plt.xlabel('Year')\n",
    "    plt.ylabel('Votes')\n",
    "    plt.title(county+', '+state)\n",
    "    plt.xticks(years)\n",
    "    plt.legend()\n",
    "    plt.show()"
   ],
   "execution_count": 5,
   "outputs": []
  },
  {
   "cell_type": "code",
   "metadata": {
    "pycharm": {
     "name": "#%%\n"
    },
    "id": "DJh6SpbjSp5s"
   },
   "source": [
    "def calcState(state):\n",
    "    state_df = df[df['state']==state]\n",
    "    state_df = state_df.drop(columns=['state','county'])\n",
    "    state_votes = state_df.values.tolist()\n",
    "    state_votes = np.array(state_votes)\n",
    "    state_votes = np.sum(state_votes,axis=0,dtype=np.int64)\n",
    "    d = []\n",
    "    r = []\n",
    "    o = []\n",
    "    for ind, val in enumerate(state_votes):\n",
    "        party = ind % 3\n",
    "        if party == 0:\n",
    "            d.append(val)\n",
    "        elif party == 1:\n",
    "            r.append(val)\n",
    "        else:\n",
    "            o.append(val)\n",
    "    d = np.array(d)\n",
    "    r = np.array(r)\n",
    "    o = np.array(o)\n",
    "    return d,r,o"
   ],
   "execution_count": 6,
   "outputs": []
  },
  {
   "cell_type": "code",
   "metadata": {
    "pycharm": {
     "name": "#%%\n"
    },
    "id": "Ir1pXANGSp6F"
   },
   "source": [
    "def plotState(state,d,r,o):\n",
    "    years = range(2000,2020,4)\n",
    "    plt.figure()\n",
    "    plt.plot(years,d,'b',label='Democrat')\n",
    "    plt.plot(years,r,'r',label='Republican')\n",
    "    plt.plot(years,o,'y',label='Other')\n",
    "    plt.plot(years,d+r+o,'k',label='Total')\n",
    "    plt.xlabel('Year')\n",
    "    plt.ylabel('Votes')\n",
    "    plt.title(state)\n",
    "    plt.xticks(years)\n",
    "    plt.legend()\n",
    "    plt.show()"
   ],
   "execution_count": 7,
   "outputs": []
  },
  {
   "cell_type": "code",
   "metadata": {
    "pycharm": {
     "name": "#%%\n"
    },
    "id": "BhlfhjBISp6o"
   },
   "source": [
    "def convertbyParty(point):\n",
    "    d = point[:,::3]/20000\n",
    "    r = point[:,1::3]/20000\n",
    "    o = point[:,2::3]/250\n",
    "    return d,r,o"
   ],
   "execution_count": 8,
   "outputs": []
  },
  {
   "cell_type": "code",
   "metadata": {
    "pycharm": {
     "name": "#%%\n"
    },
    "id": "sKpS8inlSp7A"
   },
   "source": [
    "def getDataset(data,batch_size,split=True):\n",
    "    data = np.expand_dims(data,axis=-1)\n",
    "    np.random.shuffle(data)\n",
    "    num = data.shape[0]\n",
    "    train_data = data[:int(num*0.6)]\n",
    "    val_data = data[int(num*0.6):int(num*0.8)]\n",
    "    test_data = data[int(num*0.8):]\n",
    "    def createDS(point,label=True):\n",
    "        d,r,o=convertbyParty(point)\n",
    "        new_data = np.vstack((d,r,o))\n",
    "        ds = tf.data.Dataset.from_tensor_slices(new_data)\n",
    "        if label:\n",
    "            ds = ds.map(lambda p: (p[:-1],p[1:]))\n",
    "        else:\n",
    "            ds = ds.map(lambda p: p[:-1])\n",
    "        return ds.batch(batch_size).prefetch(1)\n",
    "    if split:\n",
    "        return createDS(train_data),createDS(val_data),createDS(test_data)\n",
    "    else:\n",
    "        return createDS(data,False)"
   ],
   "execution_count": 9,
   "outputs": []
  },
  {
   "cell_type": "code",
   "metadata": {
    "pycharm": {
     "name": "#%%\n"
    },
    "id": "FuRS8y-8Sp7O",
    "outputId": "c754b8a3-4bcf-4678-b41d-a9a9848df0d3",
    "colab": {
     "base_uri": "https://localhost:8080/",
     "height": 34
    }
   },
   "source": [
    "train_ds, val_ds, test_ds = getDataset(data,8)\n",
    "train_ds\n"
   ],
   "execution_count": 10,
   "outputs": [
    {
     "output_type": "execute_result",
     "data": {
      "text/plain": [
       "<PrefetchDataset shapes: ((None, 4, 1), (None, 4, 1)), types: (tf.float64, tf.float64)>"
      ]
     },
     "metadata": {
      "tags": []
     },
     "execution_count": 10
    }
   ]
  },
  {
   "cell_type": "code",
   "metadata": {
    "pycharm": {
     "name": "#%%\n"
    },
    "id": "bHcc7PIxSp7h"
   },
   "source": [
    "model = tf.keras.Sequential([\n",
    "    tf.keras.layers.Conv1D(32,2,activation='relu',input_shape=(4,1)),\n",
    "    tf.keras.layers.Flatten(),\n",
    "    tf.keras.layers.Dense(4,activation='relu'),\n",
    "    tf.keras.layers.Reshape((4,1)),\n",
    "    tf.keras.layers.LSTM(32,return_sequences=True),\n",
    "    tf.keras.layers.LSTM(32,return_sequences=True),\n",
    "    tf.keras.layers.LSTM(32,return_sequences=True),\n",
    "])\n",
    "for i in [2,4,8,16,32]:\n",
    "    model.add(tf.keras.layers.Dense(i,'relu'))\n",
    "model.add(tf.keras.layers.Dense(1))"
   ],
   "execution_count": 91,
   "outputs": []
  },
  {
   "cell_type": "code",
   "metadata": {
    "pycharm": {
     "name": "#%%\n"
    },
    "id": "bKa-U7wESp7w"
   },
   "source": [
    "# model = tf.keras.Sequential([\n",
    "#     tf.keras.layers.Conv1D(4,2,input_shape=(4,1),activation='relu'),\n",
    "#     tf.keras.layers.LSTM(8,return_sequences=True),\n",
    "#     tf.keras.layers.LSTM(16,return_sequences=True),\n",
    "#     tf.keras.layers.Flatten(),\n",
    "#     tf.keras.layers.Dense(4),\n",
    "#     tf.keras.layers.Reshape((4,1))\n",
    "# ])"
   ],
   "execution_count": 12,
   "outputs": []
  },
  {
   "cell_type": "code",
   "metadata": {
    "pycharm": {
     "name": "#%%\n"
    },
    "id": "Sm_qpTzDSp7-",
    "outputId": "1383cf6e-0871-45a4-d301-a3d7b3fafcab",
    "colab": {
     "base_uri": "https://localhost:8080/",
     "height": 595
    }
   },
   "source": [
    "lr_schedule = tf.keras.callbacks.LearningRateScheduler(lambda epoch: 1e-6 * 10**(epoch / 20))\n",
    "optimizer = tf.keras.optimizers.Adam(learning_rate=10**(-4.5))\n",
    "model.compile(loss='mse',optimizer=optimizer)\n",
    "model.summary()"
   ],
   "execution_count": 92,
   "outputs": [
    {
     "output_type": "stream",
     "text": [
      "Model: \"sequential_17\"\n",
      "_________________________________________________________________\n",
      "Layer (type)                 Output Shape              Param #   \n",
      "=================================================================\n",
      "conv1d_21 (Conv1D)           (None, 3, 32)             96        \n",
      "_________________________________________________________________\n",
      "flatten_17 (Flatten)         (None, 96)                0         \n",
      "_________________________________________________________________\n",
      "dense_119 (Dense)            (None, 4)                 388       \n",
      "_________________________________________________________________\n",
      "reshape_17 (Reshape)         (None, 4, 1)              0         \n",
      "_________________________________________________________________\n",
      "lstm_45 (LSTM)               (None, 4, 32)             4352      \n",
      "_________________________________________________________________\n",
      "lstm_46 (LSTM)               (None, 4, 32)             8320      \n",
      "_________________________________________________________________\n",
      "lstm_47 (LSTM)               (None, 4, 32)             8320      \n",
      "_________________________________________________________________\n",
      "dense_120 (Dense)            (None, 4, 2)              66        \n",
      "_________________________________________________________________\n",
      "dense_121 (Dense)            (None, 4, 4)              12        \n",
      "_________________________________________________________________\n",
      "dense_122 (Dense)            (None, 4, 8)              40        \n",
      "_________________________________________________________________\n",
      "dense_123 (Dense)            (None, 4, 16)             144       \n",
      "_________________________________________________________________\n",
      "dense_124 (Dense)            (None, 4, 32)             544       \n",
      "_________________________________________________________________\n",
      "dense_125 (Dense)            (None, 4, 1)              33        \n",
      "=================================================================\n",
      "Total params: 22,315\n",
      "Trainable params: 22,315\n",
      "Non-trainable params: 0\n",
      "_________________________________________________________________\n"
     ],
     "name": "stdout"
    }
   ]
  },
  {
   "cell_type": "code",
   "metadata": {
    "pycharm": {
     "name": "#%%\n"
    },
    "id": "SR-cfHLeSp8N"
   },
   "source": [
    "model_checkpoint = tf.keras.callbacks.ModelCheckpoint(\"checkpoint4.h5\", save_best_only=True)\n",
    "early_stopping = tf.keras.callbacks.EarlyStopping(patience=125)\n"
   ],
   "execution_count": 93,
   "outputs": []
  },
  {
   "cell_type": "code",
   "metadata": {
    "pycharm": {
     "name": "#%%\n"
    },
    "id": "lmf1QmWbSp8c",
    "outputId": "d3df4ce4-0770-44a6-adce-e0397e04e492",
    "colab": {
     "base_uri": "https://localhost:8080/",
     "height": 1000
    }
   },
   "source": [
    "# history = model.fit(train_ds,epochs=80,validation_data=val_ds,callbacks=[lr_schedule])\n",
    "# plt.semilogx(history.history[\"lr\"], history.history[\"loss\"])\n",
    "# plt.axis([1e-7, .01, 0, 300])\n",
    "def getlr(epoch):\n",
    "  return 10**(-epoch//150-6)\n",
    "new_lr = tf.keras.callbacks.LearningRateScheduler(getlr)\n",
    "model.fit(train_ds,epochs=10000,validation_data=val_ds,callbacks=[model_checkpoint,early_stopping])"
   ],
   "execution_count": 98,
   "outputs": [
    {
     "output_type": "stream",
     "text": [
      "Epoch 1/10000\n",
      "647/647 [==============================] - 6s 9ms/step - loss: 16.5010 - val_loss: 15.5689\n",
      "Epoch 2/10000\n",
      "647/647 [==============================] - 6s 9ms/step - loss: 16.4956 - val_loss: 15.5587\n",
      "Epoch 3/10000\n",
      "647/647 [==============================] - 6s 9ms/step - loss: 16.4637 - val_loss: 15.5683\n",
      "Epoch 4/10000\n",
      "647/647 [==============================] - 6s 9ms/step - loss: 16.4885 - val_loss: 15.5780\n",
      "Epoch 5/10000\n",
      "647/647 [==============================] - 6s 9ms/step - loss: 16.4718 - val_loss: 15.5227\n",
      "Epoch 6/10000\n",
      "647/647 [==============================] - 6s 9ms/step - loss: 16.4675 - val_loss: 15.5908\n",
      "Epoch 7/10000\n",
      "647/647 [==============================] - 6s 9ms/step - loss: 16.4615 - val_loss: 15.5912\n",
      "Epoch 8/10000\n",
      "647/647 [==============================] - 6s 9ms/step - loss: 16.4541 - val_loss: 15.5975\n",
      "Epoch 9/10000\n",
      "647/647 [==============================] - 6s 9ms/step - loss: 16.4488 - val_loss: 15.6023\n",
      "Epoch 10/10000\n",
      "647/647 [==============================] - 6s 9ms/step - loss: 16.4360 - val_loss: 15.5438\n",
      "Epoch 11/10000\n",
      "647/647 [==============================] - 6s 9ms/step - loss: 16.4313 - val_loss: 15.6049\n",
      "Epoch 12/10000\n",
      "647/647 [==============================] - 6s 9ms/step - loss: 16.4335 - val_loss: 15.6164\n",
      "Epoch 13/10000\n",
      "647/647 [==============================] - 6s 9ms/step - loss: 16.4188 - val_loss: 15.6158\n",
      "Epoch 14/10000\n",
      "647/647 [==============================] - 6s 9ms/step - loss: 16.4120 - val_loss: 15.6275\n",
      "Epoch 15/10000\n",
      "647/647 [==============================] - 7s 10ms/step - loss: 16.4094 - val_loss: 15.6367\n",
      "Epoch 16/10000\n",
      "647/647 [==============================] - 6s 10ms/step - loss: 16.3860 - val_loss: 15.6232\n",
      "Epoch 17/10000\n",
      "647/647 [==============================] - 6s 9ms/step - loss: 16.4008 - val_loss: 15.6290\n",
      "Epoch 18/10000\n",
      "647/647 [==============================] - 6s 9ms/step - loss: 16.3899 - val_loss: 15.6478\n",
      "Epoch 19/10000\n",
      "647/647 [==============================] - 6s 9ms/step - loss: 16.3878 - val_loss: 15.6523\n",
      "Epoch 20/10000\n",
      "647/647 [==============================] - 6s 9ms/step - loss: 16.3780 - val_loss: 15.6587\n",
      "Epoch 21/10000\n",
      "647/647 [==============================] - 6s 9ms/step - loss: 16.3707 - val_loss: 15.6787\n",
      "Epoch 22/10000\n",
      "647/647 [==============================] - 6s 9ms/step - loss: 16.3684 - val_loss: 15.6724\n",
      "Epoch 23/10000\n",
      "647/647 [==============================] - 6s 9ms/step - loss: 16.3303 - val_loss: 15.6665\n",
      "Epoch 24/10000\n",
      "647/647 [==============================] - 6s 9ms/step - loss: 16.3594 - val_loss: 15.6940\n",
      "Epoch 25/10000\n",
      "647/647 [==============================] - 6s 9ms/step - loss: 16.3546 - val_loss: 15.6953\n",
      "Epoch 26/10000\n",
      "647/647 [==============================] - 6s 9ms/step - loss: 16.3367 - val_loss: 15.6845\n",
      "Epoch 27/10000\n",
      "647/647 [==============================] - 6s 9ms/step - loss: 16.3307 - val_loss: 15.7048\n",
      "Epoch 28/10000\n",
      "647/647 [==============================] - 6s 9ms/step - loss: 16.3302 - val_loss: 15.7123\n",
      "Epoch 29/10000\n",
      "647/647 [==============================] - 6s 9ms/step - loss: 16.3213 - val_loss: 15.7355\n",
      "Epoch 30/10000\n",
      "647/647 [==============================] - 6s 9ms/step - loss: 16.2896 - val_loss: 15.7295\n",
      "Epoch 31/10000\n",
      "647/647 [==============================] - 6s 9ms/step - loss: 16.3210 - val_loss: 15.7295\n",
      "Epoch 32/10000\n",
      "647/647 [==============================] - 6s 9ms/step - loss: 16.3023 - val_loss: 15.7383\n",
      "Epoch 33/10000\n",
      "647/647 [==============================] - 6s 9ms/step - loss: 16.2977 - val_loss: 15.7508\n",
      "Epoch 34/10000\n",
      "647/647 [==============================] - 6s 9ms/step - loss: 16.2895 - val_loss: 15.7407\n",
      "Epoch 35/10000\n",
      "647/647 [==============================] - 6s 9ms/step - loss: 16.2602 - val_loss: 15.7377\n",
      "Epoch 36/10000\n",
      "647/647 [==============================] - 6s 9ms/step - loss: 16.2870 - val_loss: 15.7629\n",
      "Epoch 37/10000\n",
      "647/647 [==============================] - 6s 9ms/step - loss: 16.2771 - val_loss: 15.7705\n",
      "Epoch 38/10000\n",
      "647/647 [==============================] - 6s 9ms/step - loss: 16.2668 - val_loss: 15.7761\n",
      "Epoch 39/10000\n",
      "647/647 [==============================] - 6s 9ms/step - loss: 16.2566 - val_loss: 15.7757\n",
      "Epoch 40/10000\n",
      "647/647 [==============================] - 6s 9ms/step - loss: 16.2341 - val_loss: 15.7419\n",
      "Epoch 41/10000\n",
      "647/647 [==============================] - 6s 9ms/step - loss: 16.2573 - val_loss: 15.7715\n",
      "Epoch 42/10000\n",
      "647/647 [==============================] - 6s 9ms/step - loss: 16.2421 - val_loss: 15.7880\n",
      "Epoch 43/10000\n",
      "647/647 [==============================] - 6s 9ms/step - loss: 16.2353 - val_loss: 15.7752\n",
      "Epoch 44/10000\n",
      "647/647 [==============================] - 6s 9ms/step - loss: 16.2058 - val_loss: 15.7697\n",
      "Epoch 45/10000\n",
      "647/647 [==============================] - 6s 9ms/step - loss: 16.2334 - val_loss: 15.7906\n",
      "Epoch 46/10000\n",
      "647/647 [==============================] - 6s 9ms/step - loss: 16.2206 - val_loss: 15.7946\n",
      "Epoch 47/10000\n",
      "647/647 [==============================] - 6s 9ms/step - loss: 16.2101 - val_loss: 15.8119\n",
      "Epoch 48/10000\n",
      "647/647 [==============================] - 6s 9ms/step - loss: 16.1810 - val_loss: 15.7795\n",
      "Epoch 49/10000\n",
      "647/647 [==============================] - 6s 9ms/step - loss: 16.2159 - val_loss: 15.8085\n",
      "Epoch 50/10000\n",
      "647/647 [==============================] - 6s 9ms/step - loss: 16.1926 - val_loss: 15.8200\n",
      "Epoch 51/10000\n",
      "647/647 [==============================] - 6s 9ms/step - loss: 16.1865 - val_loss: 15.8298\n",
      "Epoch 52/10000\n",
      "131/647 [=====>........................] - ETA: 3s - loss: 6.7421"
     ],
     "name": "stdout"
    },
    {
     "output_type": "error",
     "ename": "KeyboardInterrupt",
     "evalue": "ignored",
     "traceback": [
      "\u001B[0;31m---------------------------------------------------------------------------\u001B[0m",
      "\u001B[0;31mKeyboardInterrupt\u001B[0m                         Traceback (most recent call last)",
      "\u001B[0;32m<ipython-input-98-4daa9d563372>\u001B[0m in \u001B[0;36m<module>\u001B[0;34m()\u001B[0m\n\u001B[1;32m      5\u001B[0m   \u001B[0;32mreturn\u001B[0m \u001B[0;36m10\u001B[0m\u001B[0;34m**\u001B[0m\u001B[0;34m(\u001B[0m\u001B[0;34m-\u001B[0m\u001B[0mepoch\u001B[0m\u001B[0;34m//\u001B[0m\u001B[0;36m150\u001B[0m\u001B[0;34m-\u001B[0m\u001B[0;36m6\u001B[0m\u001B[0;34m)\u001B[0m\u001B[0;34m\u001B[0m\u001B[0;34m\u001B[0m\u001B[0m\n\u001B[1;32m      6\u001B[0m \u001B[0mnew_lr\u001B[0m \u001B[0;34m=\u001B[0m \u001B[0mtf\u001B[0m\u001B[0;34m.\u001B[0m\u001B[0mkeras\u001B[0m\u001B[0;34m.\u001B[0m\u001B[0mcallbacks\u001B[0m\u001B[0;34m.\u001B[0m\u001B[0mLearningRateScheduler\u001B[0m\u001B[0;34m(\u001B[0m\u001B[0mgetlr\u001B[0m\u001B[0;34m)\u001B[0m\u001B[0;34m\u001B[0m\u001B[0;34m\u001B[0m\u001B[0m\n\u001B[0;32m----> 7\u001B[0;31m \u001B[0mmodel\u001B[0m\u001B[0;34m.\u001B[0m\u001B[0mfit\u001B[0m\u001B[0;34m(\u001B[0m\u001B[0mtrain_ds\u001B[0m\u001B[0;34m,\u001B[0m\u001B[0mepochs\u001B[0m\u001B[0;34m=\u001B[0m\u001B[0;36m10000\u001B[0m\u001B[0;34m,\u001B[0m\u001B[0mvalidation_data\u001B[0m\u001B[0;34m=\u001B[0m\u001B[0mval_ds\u001B[0m\u001B[0;34m,\u001B[0m\u001B[0mcallbacks\u001B[0m\u001B[0;34m=\u001B[0m\u001B[0;34m[\u001B[0m\u001B[0mmodel_checkpoint\u001B[0m\u001B[0;34m,\u001B[0m\u001B[0mearly_stopping\u001B[0m\u001B[0;34m]\u001B[0m\u001B[0;34m)\u001B[0m\u001B[0;34m\u001B[0m\u001B[0;34m\u001B[0m\u001B[0m\n\u001B[0m",
      "\u001B[0;32m/usr/local/lib/python3.6/dist-packages/tensorflow/python/keras/engine/training.py\u001B[0m in \u001B[0;36m_method_wrapper\u001B[0;34m(self, *args, **kwargs)\u001B[0m\n\u001B[1;32m    106\u001B[0m   \u001B[0;32mdef\u001B[0m \u001B[0m_method_wrapper\u001B[0m\u001B[0;34m(\u001B[0m\u001B[0mself\u001B[0m\u001B[0;34m,\u001B[0m \u001B[0;34m*\u001B[0m\u001B[0margs\u001B[0m\u001B[0;34m,\u001B[0m \u001B[0;34m**\u001B[0m\u001B[0mkwargs\u001B[0m\u001B[0;34m)\u001B[0m\u001B[0;34m:\u001B[0m\u001B[0;34m\u001B[0m\u001B[0;34m\u001B[0m\u001B[0m\n\u001B[1;32m    107\u001B[0m     \u001B[0;32mif\u001B[0m \u001B[0;32mnot\u001B[0m \u001B[0mself\u001B[0m\u001B[0;34m.\u001B[0m\u001B[0m_in_multi_worker_mode\u001B[0m\u001B[0;34m(\u001B[0m\u001B[0;34m)\u001B[0m\u001B[0;34m:\u001B[0m  \u001B[0;31m# pylint: disable=protected-access\u001B[0m\u001B[0;34m\u001B[0m\u001B[0;34m\u001B[0m\u001B[0m\n\u001B[0;32m--> 108\u001B[0;31m       \u001B[0;32mreturn\u001B[0m \u001B[0mmethod\u001B[0m\u001B[0;34m(\u001B[0m\u001B[0mself\u001B[0m\u001B[0;34m,\u001B[0m \u001B[0;34m*\u001B[0m\u001B[0margs\u001B[0m\u001B[0;34m,\u001B[0m \u001B[0;34m**\u001B[0m\u001B[0mkwargs\u001B[0m\u001B[0;34m)\u001B[0m\u001B[0;34m\u001B[0m\u001B[0;34m\u001B[0m\u001B[0m\n\u001B[0m\u001B[1;32m    109\u001B[0m \u001B[0;34m\u001B[0m\u001B[0m\n\u001B[1;32m    110\u001B[0m     \u001B[0;31m# Running inside `run_distribute_coordinator` already.\u001B[0m\u001B[0;34m\u001B[0m\u001B[0;34m\u001B[0m\u001B[0;34m\u001B[0m\u001B[0m\n",
      "\u001B[0;32m/usr/local/lib/python3.6/dist-packages/tensorflow/python/keras/engine/training.py\u001B[0m in \u001B[0;36mfit\u001B[0;34m(self, x, y, batch_size, epochs, verbose, callbacks, validation_split, validation_data, shuffle, class_weight, sample_weight, initial_epoch, steps_per_epoch, validation_steps, validation_batch_size, validation_freq, max_queue_size, workers, use_multiprocessing)\u001B[0m\n\u001B[1;32m   1096\u001B[0m                 batch_size=batch_size):\n\u001B[1;32m   1097\u001B[0m               \u001B[0mcallbacks\u001B[0m\u001B[0;34m.\u001B[0m\u001B[0mon_train_batch_begin\u001B[0m\u001B[0;34m(\u001B[0m\u001B[0mstep\u001B[0m\u001B[0;34m)\u001B[0m\u001B[0;34m\u001B[0m\u001B[0;34m\u001B[0m\u001B[0m\n\u001B[0;32m-> 1098\u001B[0;31m               \u001B[0mtmp_logs\u001B[0m \u001B[0;34m=\u001B[0m \u001B[0mtrain_function\u001B[0m\u001B[0;34m(\u001B[0m\u001B[0miterator\u001B[0m\u001B[0;34m)\u001B[0m\u001B[0;34m\u001B[0m\u001B[0;34m\u001B[0m\u001B[0m\n\u001B[0m\u001B[1;32m   1099\u001B[0m               \u001B[0;32mif\u001B[0m \u001B[0mdata_handler\u001B[0m\u001B[0;34m.\u001B[0m\u001B[0mshould_sync\u001B[0m\u001B[0;34m:\u001B[0m\u001B[0;34m\u001B[0m\u001B[0;34m\u001B[0m\u001B[0m\n\u001B[1;32m   1100\u001B[0m                 \u001B[0mcontext\u001B[0m\u001B[0;34m.\u001B[0m\u001B[0masync_wait\u001B[0m\u001B[0;34m(\u001B[0m\u001B[0;34m)\u001B[0m\u001B[0;34m\u001B[0m\u001B[0;34m\u001B[0m\u001B[0m\n",
      "\u001B[0;32m/usr/local/lib/python3.6/dist-packages/tensorflow/python/eager/def_function.py\u001B[0m in \u001B[0;36m__call__\u001B[0;34m(self, *args, **kwds)\u001B[0m\n\u001B[1;32m    778\u001B[0m       \u001B[0;32melse\u001B[0m\u001B[0;34m:\u001B[0m\u001B[0;34m\u001B[0m\u001B[0;34m\u001B[0m\u001B[0m\n\u001B[1;32m    779\u001B[0m         \u001B[0mcompiler\u001B[0m \u001B[0;34m=\u001B[0m \u001B[0;34m\"nonXla\"\u001B[0m\u001B[0;34m\u001B[0m\u001B[0;34m\u001B[0m\u001B[0m\n\u001B[0;32m--> 780\u001B[0;31m         \u001B[0mresult\u001B[0m \u001B[0;34m=\u001B[0m \u001B[0mself\u001B[0m\u001B[0;34m.\u001B[0m\u001B[0m_call\u001B[0m\u001B[0;34m(\u001B[0m\u001B[0;34m*\u001B[0m\u001B[0margs\u001B[0m\u001B[0;34m,\u001B[0m \u001B[0;34m**\u001B[0m\u001B[0mkwds\u001B[0m\u001B[0;34m)\u001B[0m\u001B[0;34m\u001B[0m\u001B[0;34m\u001B[0m\u001B[0m\n\u001B[0m\u001B[1;32m    781\u001B[0m \u001B[0;34m\u001B[0m\u001B[0m\n\u001B[1;32m    782\u001B[0m       \u001B[0mnew_tracing_count\u001B[0m \u001B[0;34m=\u001B[0m \u001B[0mself\u001B[0m\u001B[0;34m.\u001B[0m\u001B[0m_get_tracing_count\u001B[0m\u001B[0;34m(\u001B[0m\u001B[0;34m)\u001B[0m\u001B[0;34m\u001B[0m\u001B[0;34m\u001B[0m\u001B[0m\n",
      "\u001B[0;32m/usr/local/lib/python3.6/dist-packages/tensorflow/python/eager/def_function.py\u001B[0m in \u001B[0;36m_call\u001B[0;34m(self, *args, **kwds)\u001B[0m\n\u001B[1;32m    805\u001B[0m       \u001B[0;31m# In this case we have created variables on the first call, so we run the\u001B[0m\u001B[0;34m\u001B[0m\u001B[0;34m\u001B[0m\u001B[0;34m\u001B[0m\u001B[0m\n\u001B[1;32m    806\u001B[0m       \u001B[0;31m# defunned version which is guaranteed to never create variables.\u001B[0m\u001B[0;34m\u001B[0m\u001B[0;34m\u001B[0m\u001B[0;34m\u001B[0m\u001B[0m\n\u001B[0;32m--> 807\u001B[0;31m       \u001B[0;32mreturn\u001B[0m \u001B[0mself\u001B[0m\u001B[0;34m.\u001B[0m\u001B[0m_stateless_fn\u001B[0m\u001B[0;34m(\u001B[0m\u001B[0;34m*\u001B[0m\u001B[0margs\u001B[0m\u001B[0;34m,\u001B[0m \u001B[0;34m**\u001B[0m\u001B[0mkwds\u001B[0m\u001B[0;34m)\u001B[0m  \u001B[0;31m# pylint: disable=not-callable\u001B[0m\u001B[0;34m\u001B[0m\u001B[0;34m\u001B[0m\u001B[0m\n\u001B[0m\u001B[1;32m    808\u001B[0m     \u001B[0;32melif\u001B[0m \u001B[0mself\u001B[0m\u001B[0;34m.\u001B[0m\u001B[0m_stateful_fn\u001B[0m \u001B[0;32mis\u001B[0m \u001B[0;32mnot\u001B[0m \u001B[0;32mNone\u001B[0m\u001B[0;34m:\u001B[0m\u001B[0;34m\u001B[0m\u001B[0;34m\u001B[0m\u001B[0m\n\u001B[1;32m    809\u001B[0m       \u001B[0;31m# Release the lock early so that multiple threads can perform the call\u001B[0m\u001B[0;34m\u001B[0m\u001B[0;34m\u001B[0m\u001B[0;34m\u001B[0m\u001B[0m\n",
      "\u001B[0;32m/usr/local/lib/python3.6/dist-packages/tensorflow/python/eager/function.py\u001B[0m in \u001B[0;36m__call__\u001B[0;34m(self, *args, **kwargs)\u001B[0m\n\u001B[1;32m   2827\u001B[0m     \u001B[0;32mwith\u001B[0m \u001B[0mself\u001B[0m\u001B[0;34m.\u001B[0m\u001B[0m_lock\u001B[0m\u001B[0;34m:\u001B[0m\u001B[0;34m\u001B[0m\u001B[0;34m\u001B[0m\u001B[0m\n\u001B[1;32m   2828\u001B[0m       \u001B[0mgraph_function\u001B[0m\u001B[0;34m,\u001B[0m \u001B[0margs\u001B[0m\u001B[0;34m,\u001B[0m \u001B[0mkwargs\u001B[0m \u001B[0;34m=\u001B[0m \u001B[0mself\u001B[0m\u001B[0;34m.\u001B[0m\u001B[0m_maybe_define_function\u001B[0m\u001B[0;34m(\u001B[0m\u001B[0margs\u001B[0m\u001B[0;34m,\u001B[0m \u001B[0mkwargs\u001B[0m\u001B[0;34m)\u001B[0m\u001B[0;34m\u001B[0m\u001B[0;34m\u001B[0m\u001B[0m\n\u001B[0;32m-> 2829\u001B[0;31m     \u001B[0;32mreturn\u001B[0m \u001B[0mgraph_function\u001B[0m\u001B[0;34m.\u001B[0m\u001B[0m_filtered_call\u001B[0m\u001B[0;34m(\u001B[0m\u001B[0margs\u001B[0m\u001B[0;34m,\u001B[0m \u001B[0mkwargs\u001B[0m\u001B[0;34m)\u001B[0m  \u001B[0;31m# pylint: disable=protected-access\u001B[0m\u001B[0;34m\u001B[0m\u001B[0;34m\u001B[0m\u001B[0m\n\u001B[0m\u001B[1;32m   2830\u001B[0m \u001B[0;34m\u001B[0m\u001B[0m\n\u001B[1;32m   2831\u001B[0m   \u001B[0;34m@\u001B[0m\u001B[0mproperty\u001B[0m\u001B[0;34m\u001B[0m\u001B[0;34m\u001B[0m\u001B[0m\n",
      "\u001B[0;32m/usr/local/lib/python3.6/dist-packages/tensorflow/python/eager/function.py\u001B[0m in \u001B[0;36m_filtered_call\u001B[0;34m(self, args, kwargs, cancellation_manager)\u001B[0m\n\u001B[1;32m   1846\u001B[0m                            resource_variable_ops.BaseResourceVariable))],\n\u001B[1;32m   1847\u001B[0m         \u001B[0mcaptured_inputs\u001B[0m\u001B[0;34m=\u001B[0m\u001B[0mself\u001B[0m\u001B[0;34m.\u001B[0m\u001B[0mcaptured_inputs\u001B[0m\u001B[0;34m,\u001B[0m\u001B[0;34m\u001B[0m\u001B[0;34m\u001B[0m\u001B[0m\n\u001B[0;32m-> 1848\u001B[0;31m         cancellation_manager=cancellation_manager)\n\u001B[0m\u001B[1;32m   1849\u001B[0m \u001B[0;34m\u001B[0m\u001B[0m\n\u001B[1;32m   1850\u001B[0m   \u001B[0;32mdef\u001B[0m \u001B[0m_call_flat\u001B[0m\u001B[0;34m(\u001B[0m\u001B[0mself\u001B[0m\u001B[0;34m,\u001B[0m \u001B[0margs\u001B[0m\u001B[0;34m,\u001B[0m \u001B[0mcaptured_inputs\u001B[0m\u001B[0;34m,\u001B[0m \u001B[0mcancellation_manager\u001B[0m\u001B[0;34m=\u001B[0m\u001B[0;32mNone\u001B[0m\u001B[0;34m)\u001B[0m\u001B[0;34m:\u001B[0m\u001B[0;34m\u001B[0m\u001B[0;34m\u001B[0m\u001B[0m\n",
      "\u001B[0;32m/usr/local/lib/python3.6/dist-packages/tensorflow/python/eager/function.py\u001B[0m in \u001B[0;36m_call_flat\u001B[0;34m(self, args, captured_inputs, cancellation_manager)\u001B[0m\n\u001B[1;32m   1922\u001B[0m       \u001B[0;31m# No tape is watching; skip to running the function.\u001B[0m\u001B[0;34m\u001B[0m\u001B[0;34m\u001B[0m\u001B[0;34m\u001B[0m\u001B[0m\n\u001B[1;32m   1923\u001B[0m       return self._build_call_outputs(self._inference_function.call(\n\u001B[0;32m-> 1924\u001B[0;31m           ctx, args, cancellation_manager=cancellation_manager))\n\u001B[0m\u001B[1;32m   1925\u001B[0m     forward_backward = self._select_forward_and_backward_functions(\n\u001B[1;32m   1926\u001B[0m         \u001B[0margs\u001B[0m\u001B[0;34m,\u001B[0m\u001B[0;34m\u001B[0m\u001B[0;34m\u001B[0m\u001B[0m\n",
      "\u001B[0;32m/usr/local/lib/python3.6/dist-packages/tensorflow/python/eager/function.py\u001B[0m in \u001B[0;36mcall\u001B[0;34m(self, ctx, args, cancellation_manager)\u001B[0m\n\u001B[1;32m    548\u001B[0m               \u001B[0minputs\u001B[0m\u001B[0;34m=\u001B[0m\u001B[0margs\u001B[0m\u001B[0;34m,\u001B[0m\u001B[0;34m\u001B[0m\u001B[0;34m\u001B[0m\u001B[0m\n\u001B[1;32m    549\u001B[0m               \u001B[0mattrs\u001B[0m\u001B[0;34m=\u001B[0m\u001B[0mattrs\u001B[0m\u001B[0;34m,\u001B[0m\u001B[0;34m\u001B[0m\u001B[0;34m\u001B[0m\u001B[0m\n\u001B[0;32m--> 550\u001B[0;31m               ctx=ctx)\n\u001B[0m\u001B[1;32m    551\u001B[0m         \u001B[0;32melse\u001B[0m\u001B[0;34m:\u001B[0m\u001B[0;34m\u001B[0m\u001B[0;34m\u001B[0m\u001B[0m\n\u001B[1;32m    552\u001B[0m           outputs = execute.execute_with_cancellation(\n",
      "\u001B[0;32m/usr/local/lib/python3.6/dist-packages/tensorflow/python/eager/execute.py\u001B[0m in \u001B[0;36mquick_execute\u001B[0;34m(op_name, num_outputs, inputs, attrs, ctx, name)\u001B[0m\n\u001B[1;32m     58\u001B[0m     \u001B[0mctx\u001B[0m\u001B[0;34m.\u001B[0m\u001B[0mensure_initialized\u001B[0m\u001B[0;34m(\u001B[0m\u001B[0;34m)\u001B[0m\u001B[0;34m\u001B[0m\u001B[0;34m\u001B[0m\u001B[0m\n\u001B[1;32m     59\u001B[0m     tensors = pywrap_tfe.TFE_Py_Execute(ctx._handle, device_name, op_name,\n\u001B[0;32m---> 60\u001B[0;31m                                         inputs, attrs, num_outputs)\n\u001B[0m\u001B[1;32m     61\u001B[0m   \u001B[0;32mexcept\u001B[0m \u001B[0mcore\u001B[0m\u001B[0;34m.\u001B[0m\u001B[0m_NotOkStatusException\u001B[0m \u001B[0;32mas\u001B[0m \u001B[0me\u001B[0m\u001B[0;34m:\u001B[0m\u001B[0;34m\u001B[0m\u001B[0;34m\u001B[0m\u001B[0m\n\u001B[1;32m     62\u001B[0m     \u001B[0;32mif\u001B[0m \u001B[0mname\u001B[0m \u001B[0;32mis\u001B[0m \u001B[0;32mnot\u001B[0m \u001B[0;32mNone\u001B[0m\u001B[0;34m:\u001B[0m\u001B[0;34m\u001B[0m\u001B[0;34m\u001B[0m\u001B[0m\n",
      "\u001B[0;31mKeyboardInterrupt\u001B[0m: "
     ]
    }
   ]
  },
  {
   "cell_type": "code",
   "metadata": {
    "pycharm": {
     "name": "#%%\n"
    },
    "id": "sY9EgNpOSp8s"
   },
   "source": [
    "c = 'Kenosha'\n",
    "s = 'WI'\n",
    "r = df[(df['state']==s)&(df['county']==c)]"
   ],
   "execution_count": 99,
   "outputs": []
  },
  {
   "cell_type": "code",
   "metadata": {
    "pycharm": {
     "name": "#%%\n"
    },
    "id": "lCSQPQbsSp87"
   },
   "source": [
    "model4 = tf.keras.models.load_model('checkpoint4.h5')\n",
    "row = r.drop(columns=['state','county'])\n",
    "row = row.to_numpy()\n",
    "dataset = getDataset(row,2,False)"
   ],
   "execution_count": 100,
   "outputs": []
  },
  {
   "cell_type": "code",
   "metadata": {
    "pycharm": {
     "name": "#%%\n"
    },
    "id": "IKZQWaW-Sp9N",
    "outputId": "a201a597-bade-49d6-fd9b-230df224ce05",
    "colab": {
     "base_uri": "https://localhost:8080/",
     "height": 71
    }
   },
   "source": [
    "results = model4.predict(dataset)\n",
    "results[0].shape"
   ],
   "execution_count": 101,
   "outputs": [
    {
     "output_type": "stream",
     "text": [
      "WARNING:tensorflow:6 out of the last 11 calls to <function Model.make_predict_function.<locals>.predict_function at 0x7f478dac3488> triggered tf.function retracing. Tracing is expensive and the excessive number of tracings could be due to (1) creating @tf.function repeatedly in a loop, (2) passing tensors with different shapes, (3) passing Python objects instead of tensors. For (1), please define your @tf.function outside of the loop. For (2), @tf.function has experimental_relax_shapes=True option that relaxes argument shapes that can avoid unnecessary retracing. For (3), please refer to https://www.tensorflow.org/tutorials/customization/performance#python_or_tensor_args and https://www.tensorflow.org/api_docs/python/tf/function for  more details.\n"
     ],
     "name": "stdout"
    },
    {
     "output_type": "execute_result",
     "data": {
      "text/plain": [
       "(4, 1)"
      ]
     },
     "metadata": {
      "tags": []
     },
     "execution_count": 101
    }
   ]
  },
  {
   "cell_type": "code",
   "metadata": {
    "pycharm": {
     "name": "#%%\n"
    },
    "id": "J-2cK6uCSp9k",
    "outputId": "73307db3-2e1e-4dd5-ff6a-62ae54c0caa9",
    "colab": {
     "base_uri": "https://localhost:8080/",
     "height": 295
    }
   },
   "source": [
    "dem = np.array(r.values.tolist()[0][2::3])\n",
    "gop = np.array(r.values.tolist()[0][3::3])\n",
    "other = np.array(r.values.tolist()[0][4::3])\n",
    "plotCounty(s,c,dem,gop,other,results)"
   ],
   "execution_count": 102,
   "outputs": [
    {
     "output_type": "display_data",
     "data": {
      "image/png": "[encoded data removed]",
      "text/plain": [
       "<Figure size 432x288 with 1 Axes>"
      ]
     },
     "metadata": {
      "tags": [],
      "needs_background": "light"
     }
    }
   ]
  }
 ]
}